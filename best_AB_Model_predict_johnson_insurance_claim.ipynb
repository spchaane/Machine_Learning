{
 "cells": [
  {
   "cell_type": "code",
   "execution_count": 14,
   "metadata": {},
   "outputs": [],
   "source": [
    "#importing modules\n",
    "import numpy as np\n",
    "import pandas as pd\n",
    "import matplotlib.pyplot as plt\n",
    "import seaborn as sns\n",
    "%matplotlib inline\n",
    "\n",
    "\n",
    "import warnings #to ignore warnings\n",
    "warnings.filterwarnings('ignore');"
   ]
  },
  {
   "cell_type": "code",
   "execution_count": 67,
   "metadata": {},
   "outputs": [],
   "source": [
    "#creating dataframes\n",
    "load_train = pd.read_csv('train.csv', na_values=[\"?\"]) #na_values will replace \"?\" with NaN\n",
    "load_test = pd.read_csv('test.csv', na_values=[\"?\"])\n",
    "load_submission = pd.read_csv('sample_submission.csv')\n",
    "\n",
    "#making copies to protect the original data\n",
    "train_original = load_train.copy()\n",
    "test_original = load_test.copy()\n",
    "submission_originial = load_submission.copy()\n",
    "\n",
    "train = load_train\n",
    "test = load_test\n",
    "sumbission = load_submission"
   ]
  },
  {
   "cell_type": "code",
   "execution_count": 68,
   "metadata": {},
   "outputs": [],
   "source": [
    "def clean_data(df):\n",
    "    #Replace missing values with the mode for categorical and or mean/median for numerical\n",
    "    #train dataset\n",
    "    df['property_damage'].fillna(df['property_damage'].mode()[0], inplace = True)\n",
    "    df['police_report_available'].fillna(df['police_report_available'].mode()[0], inplace = True)\n",
    "    df['collision_type'].fillna(df['collision_type'].mode()[0], inplace = True)\n",
    "    \n",
    "    #drop the _c39 column since it consists of nan only\n",
    "    df = df.drop(['_c39'], axis = 'columns')\n",
    "    \n",
    "    return df"
   ]
  },
  {
   "cell_type": "code",
   "execution_count": 69,
   "metadata": {},
   "outputs": [],
   "source": [
    "#clean the datasets\n",
    "train = clean_data(train)\n",
    "test = clean_data(test)"
   ]
  },
  {
   "cell_type": "code",
   "execution_count": 70,
   "metadata": {},
   "outputs": [
    {
     "data": {
      "text/plain": [
       "Series([], dtype: int64)"
      ]
     },
     "execution_count": 70,
     "metadata": {},
     "output_type": "execute_result"
    }
   ],
   "source": [
    "#sorting missing values columns and filtering 0 missing value cols\n",
    "missing_value_cols = train.isnull().sum()\n",
    "missing_value_cols = missing_value_cols[missing_value_cols != 0]\n",
    "missing_value_cols.sort_values(ascending = False)"
   ]
  },
  {
   "cell_type": "code",
   "execution_count": 71,
   "metadata": {},
   "outputs": [
    {
     "data": {
      "text/plain": [
       "NO     479\n",
       "YES    221\n",
       "Name: property_damage, dtype: int64"
      ]
     },
     "execution_count": 71,
     "metadata": {},
     "output_type": "execute_result"
    }
   ],
   "source": [
    "#property damage\n",
    "train.property_damage.value_counts()"
   ]
  },
  {
   "cell_type": "markdown",
   "metadata": {},
   "source": [
    "**Correlations on Data**"
   ]
  },
  {
   "cell_type": "code",
   "execution_count": 72,
   "metadata": {},
   "outputs": [],
   "source": [
    "def one_hot_encoding(df):\n",
    "    #import the library\n",
    "    from sklearn.preprocessing import LabelEncoder\n",
    "    le = LabelEncoder()\n",
    "    #set targets\n",
    "    columns_to_fit = [ 'insured_sex', 'insured_occupation', 'insured_relationship', \n",
    "                      'policy_state', 'property_damage',  'witnesses', 'police_report_available',\n",
    "                      'incident_state', 'auto_model', 'auto_make','authorities_contacted', 'months_as_customer', \n",
    "                      'insured_hobbies', 'incident_city', 'witnesses', 'insured_education_level' ]\n",
    "    #removed\n",
    "    #movded 'collision_type', 'collision_type'\n",
    "    #loop df and apply encoding\n",
    "    for col in df.columns:\n",
    "        if col in columns_to_fit:\n",
    "            df[col] = le.fit_transform(df[col])\n",
    "    return df "
   ]
  },
  {
   "cell_type": "code",
   "execution_count": 73,
   "metadata": {},
   "outputs": [
    {
     "data": {
      "text/plain": [
       "array(['Police', 'Fire', 'Other', 'Ambulance', 'None'], dtype=object)"
      ]
     },
     "execution_count": 73,
     "metadata": {},
     "output_type": "execute_result"
    }
   ],
   "source": [
    "train.authorities_contacted.unique()"
   ]
  },
  {
   "cell_type": "code",
   "execution_count": 74,
   "metadata": {},
   "outputs": [],
   "source": [
    "#apply one hot encoding\n",
    "train = one_hot_encoding(train)\n",
    "test = one_hot_encoding(test)"
   ]
  },
  {
   "cell_type": "code",
   "execution_count": 75,
   "metadata": {},
   "outputs": [
    {
     "data": {
      "text/plain": [
       "array([4, 1, 3, 0, 2])"
      ]
     },
     "execution_count": 75,
     "metadata": {},
     "output_type": "execute_result"
    }
   ],
   "source": [
    "train.authorities_contacted.unique()"
   ]
  },
  {
   "cell_type": "markdown",
   "metadata": {},
   "source": [
    "<b> 7.2 Feature Engineering"
   ]
  },
  {
   "cell_type": "code",
   "execution_count": 76,
   "metadata": {},
   "outputs": [],
   "source": [
    "def auto_age(df):\n",
    "    \n",
    "    #calculate the years of the auto_year or car\n",
    "    from datetime import datetime\n",
    "    current_date_time = datetime.now()\n",
    "    #replace the YYYY date with number of years\n",
    "    df['auto_age'] = (current_date_time.year - df['auto_year'])\n",
    "    #add the years_as_customer\n",
    "    df['years_as_customer'] = df.months_as_customer//12\n",
    "    #add the months_out_of_12_as_customer\n",
    "    df['no_months_as_customer'] = df.months_as_customer%12\n",
    "    \n",
    "    return df"
   ]
  },
  {
   "cell_type": "code",
   "execution_count": 77,
   "metadata": {},
   "outputs": [],
   "source": [
    "#apply feature engineering on the datasets\n",
    "train = auto_age(train)\n",
    "test = auto_age(test)"
   ]
  },
  {
   "cell_type": "code",
   "execution_count": 78,
   "metadata": {},
   "outputs": [
    {
     "data": {
      "text/plain": [
       "'ID: Customer_541, Years: 16, Months: 7'"
      ]
     },
     "execution_count": 78,
     "metadata": {},
     "output_type": "execute_result"
    }
   ],
   "source": [
    "#verify processing: years and months of customer 1\n",
    "f'ID: {train.Customer_ID[0]}, Years: {train.years_as_customer[0]}, Months: {train.no_months_as_customer[0]}'"
   ]
  },
  {
   "cell_type": "code",
   "execution_count": 83,
   "metadata": {},
   "outputs": [],
   "source": [
    "def preprocessing_datasets(df):\n",
    "    #add policy period by the time of the incident\n",
    "    #use copy df to create it and add to the original df\n",
    "    dftr = df.copy()\n",
    "    dftr['incident_date'] = pd.to_datetime(dftr['incident_date'])\n",
    "    dftr['policy_bind_date'] = pd.to_datetime(dftr['policy_bind_date'])\n",
    "    df['policy_period'] = (dftr.incident_date - dftr.policy_bind_date)\n",
    "    #Convert days in policy_period from dtype timedelta to int64\n",
    "    df['policy_period'] = df['policy_period'].dt.days\n",
    "     #convert string float fractions in policy_csl into floats\n",
    "    df_ = df.copy()\n",
    "    df_[[\"numerator\", \"denominator\"]] = df_[\"policy_csl\"].str.split(\"/\", expand=True)\n",
    "    df[\"policy_csl_float\"] = df_[\"numerator\"].astype(float) / df_[\"denominator\"].astype(float)\n",
    "\n",
    "    return df"
   ]
  },
  {
   "cell_type": "code",
   "execution_count": 84,
   "metadata": {},
   "outputs": [],
   "source": [
    "#convtert the dates\n",
    "train = preprocessing_datasets(train)\n",
    "test = preprocessing_datasets(test)"
   ]
  },
  {
   "cell_type": "code",
   "execution_count": 85,
   "metadata": {},
   "outputs": [
    {
     "data": {
      "text/plain": [
       "'ID: Customer_541, Policy period: 182 days , Policy CLS: 0.5'"
      ]
     },
     "execution_count": 85,
     "metadata": {},
     "output_type": "execute_result"
    }
   ],
   "source": [
    "#confirm processing: policy_period is the number of days of the policy when the accident took place\n",
    "f'ID: {train.Customer_ID[0]}, Policy period: {test.policy_period[0]} days , Policy CLS: {train.policy_csl_float[0]}'"
   ]
  },
  {
   "cell_type": "code",
   "execution_count": 86,
   "metadata": {
    "scrolled": true
   },
   "outputs": [
    {
     "data": {
      "text/plain": [
       "Customer_ID                     object\n",
       "months_as_customer               int32\n",
       "age                              int64\n",
       "insured_sex                      int32\n",
       "insured_education_level          int32\n",
       "insured_occupation               int32\n",
       "insured_hobbies                  int32\n",
       "insured_relationship             int32\n",
       "capital-gains                    int64\n",
       "capital-loss                     int64\n",
       "policy_number                    int64\n",
       "policy_bind_date                object\n",
       "policy_state                     int32\n",
       "policy_csl                      object\n",
       "policy_deductable                int64\n",
       "incident_location               object\n",
       "incident_hour_of_the_day         int64\n",
       "number_of_vehicles_involved      int64\n",
       "property_damage                  int32\n",
       "bodily_injuries                  int64\n",
       "policy_annual_premium          float64\n",
       "umbrella_limit                   int64\n",
       "insured_zip                      int64\n",
       "incident_date                   object\n",
       "incident_type                   object\n",
       "collision_type                  object\n",
       "incident_severity               object\n",
       "authorities_contacted            int32\n",
       "incident_state                   int32\n",
       "incident_city                    int32\n",
       "witnesses                        int32\n",
       "police_report_available          int32\n",
       "auto_make                        int32\n",
       "auto_model                       int32\n",
       "auto_year                        int64\n",
       "total_claim_amount             float64\n",
       "auto_age                         int64\n",
       "years_as_customer                int32\n",
       "no_months_as_customer            int32\n",
       "policy_period                    int64\n",
       "policy_csl_float               float64\n",
       "dtype: object"
      ]
     },
     "execution_count": 86,
     "metadata": {},
     "output_type": "execute_result"
    }
   ],
   "source": [
    "train.dtypes"
   ]
  },
  {
   "cell_type": "code",
   "execution_count": 88,
   "metadata": {},
   "outputs": [
    {
     "data": {
      "image/png": "[encoded data removed]",
      "text/plain": [
       "<Figure size 720x504 with 2 Axes>"
      ]
     },
     "metadata": {
      "needs_background": "light"
     },
     "output_type": "display_data"
    }
   ],
   "source": [
    "#view Correlations\n",
    "matrix = train.corr()\n",
    "f, ax = plt.subplots(figsize = (10, 7))\n",
    "sns.heatmap(matrix, vmax = 0.8, square = True, cmap = 'BuPu');"
   ]
  },
  {
   "cell_type": "markdown",
   "metadata": {},
   "source": [
    "<b>7.3 Drop unwanted columns</b>"
   ]
  },
  {
   "cell_type": "code",
   "execution_count": 89,
   "metadata": {},
   "outputs": [],
   "source": [
    "#appply function to delete columns\n",
    "def drop_columns(df):\n",
    "    \n",
    "    #set targets\n",
    "    columns_to_filter = [ 'Customer_ID', 'incident_location','policy_csl', 'policy_number', 'incident_city', \n",
    "                         'insured_zip', 'incident_date', 'policy_bind_date', 'incident_date']\n",
    "\n",
    "    \n",
    "    #loop df and delete columns\n",
    "    for col in df.columns:\n",
    "        if col in  columns_to_filter:\n",
    "            df = df.drop(col, axis = 1)\n",
    "    \n",
    "    return df "
   ]
  },
  {
   "cell_type": "code",
   "execution_count": 90,
   "metadata": {},
   "outputs": [],
   "source": [
    "#drop unwanted columns\n",
    "train = drop_columns(train)\n",
    "test = drop_columns(test)"
   ]
  },
  {
   "cell_type": "code",
   "execution_count": 91,
   "metadata": {},
   "outputs": [],
   "source": [
    "#verify dropped columns\n",
    "assert 'Customer_ID' not in train.columns"
   ]
  },
  {
   "cell_type": "markdown",
   "metadata": {},
   "source": [
    "# 8. Building The Model"
   ]
  },
  {
   "cell_type": "code",
   "execution_count": 92,
   "metadata": {},
   "outputs": [],
   "source": [
    "#drop target variable: total_claim_amount and assign it to y\n",
    "X = train.drop('total_claim_amount', axis = 1)\n",
    "y = train.total_claim_amount"
   ]
  },
  {
   "cell_type": "code",
   "execution_count": 93,
   "metadata": {},
   "outputs": [],
   "source": [
    "#Creating Dummies\n",
    "X = pd.get_dummies(X)\n",
    "train = pd.get_dummies(train)\n",
    "test = pd.get_dummies(test)"
   ]
  },
  {
   "cell_type": "code",
   "execution_count": 94,
   "metadata": {},
   "outputs": [],
   "source": [
    "#split the data into train and test\n",
    "from sklearn.model_selection import train_test_split\n",
    "\n",
    "X_train, X_test, y_train, y_test = train_test_split(X, y, test_size=0.2, random_state = 42)"
   ]
  },
  {
   "cell_type": "code",
   "execution_count": 95,
   "metadata": {},
   "outputs": [],
   "source": [
    "#import the libraries\n",
    "#import lib and mod\n",
    "from math import sqrt\n",
    "from sklearn.metrics import mean_squared_error\n",
    "from sklearn.linear_model import LinearRegression\n",
    "from sklearn.model_selection import GridSearchCV\n",
    "\n",
    "#instantiate the model\n",
    "model = LinearRegression()\n",
    "#set parameters\n",
    "parameters = {'fit_intercept':[True,False], 'normalize':[True,False], 'copy_X':[True, False]}\n",
    "grid = GridSearchCV(model,parameters, cv=None)\n",
    "\n",
    "#fit/train the model\n",
    "grid.fit(X_train, y_train);"
   ]
  },
  {
   "cell_type": "code",
   "execution_count": 96,
   "metadata": {},
   "outputs": [
    {
     "name": "stdout",
     "output_type": "stream",
     "text": [
      "Grid Model RMSE:20731.332644442347\n"
     ]
    }
   ],
   "source": [
    "#predict the X_test\n",
    "y_pred_1 = grid.predict(X_test)\n",
    "rmse = sqrt(mean_squared_error(y_test, y_pred_1))\n",
    "print(f'Grid Model RMSE:{rmse}')"
   ]
  },
  {
   "cell_type": "markdown",
   "metadata": {},
   "source": [
    "# Model 2"
   ]
  },
  {
   "cell_type": "code",
   "execution_count": 97,
   "metadata": {},
   "outputs": [],
   "source": [
    "from sklearn.ensemble import GradientBoostingRegressor #For Regression\n",
    "#Instantiate the model\n",
    "regress_2 = GradientBoostingRegressor(n_estimators=100, learning_rate=1.0, max_depth=1)\n",
    "#fit the model\n",
    "regress_2.fit(X_train, y_train);"
   ]
  },
  {
   "cell_type": "code",
   "execution_count": 98,
   "metadata": {},
   "outputs": [
    {
     "name": "stdout",
     "output_type": "stream",
     "text": [
      "Regress_2 Model RMSE: 21822.680179584077, MSE: 476229370.2204117\n"
     ]
    }
   ],
   "source": [
    "#prediction with GB\n",
    "y_pred_2 = regress_2.predict(X_test)\n",
    "\n",
    "#root mean square error and mean squeare error of both models\n",
    "MSE = np.square(np.subtract(y_test,y_pred_2)).mean()\n",
    "rmse = sqrt(mean_squared_error(y_test, y_pred_2))\n",
    "print(f'Regress_2 Model RMSE: {rmse}, MSE: {MSE}')"
   ]
  },
  {
   "cell_type": "markdown",
   "metadata": {},
   "source": [
    "# Model 3: GradientBoostingRegressor and AdaBoostRegressor"
   ]
  },
  {
   "cell_type": "code",
   "execution_count": 99,
   "metadata": {},
   "outputs": [],
   "source": [
    "#import libraries\n",
    "from sklearn  import ensemble #can also use sklearn.ensemble import GradientBoostRegressor\n",
    "#set parameters\n",
    "params = {'n_estimators': 500,\n",
    "          'max_depth': 4,\n",
    "          'min_samples_split': 5,\n",
    "          'learning_rate': 0.01,\n",
    "          'loss': 'ls'}\n",
    "#fit GBR\n",
    "reg_ = ensemble.GradientBoostingRegressor(**params)\n",
    "reg_.fit(X_train, y_train);"
   ]
  },
  {
   "cell_type": "code",
   "execution_count": 100,
   "metadata": {},
   "outputs": [],
   "source": [
    "#fit adaboost classifier\n",
    "reg_1=ensemble.AdaBoostRegressor()\n",
    "reg_1.fit(X_train, y_train);"
   ]
  },
  {
   "cell_type": "code",
   "execution_count": 101,
   "metadata": {},
   "outputs": [
    {
     "data": {
      "text/plain": [
       "(20872.194713534514, 20045.339414713642)"
      ]
     },
     "execution_count": 101,
     "metadata": {},
     "output_type": "execute_result"
    }
   ],
   "source": [
    "#prediction with GB and AB\n",
    "reg_pred = reg_.predict(X_test)\n",
    "reg1_pred = reg_1.predict(X_test)\n",
    "\n",
    "#root mean square error\n",
    "rmse = sqrt(mean_squared_error(y_test, reg_pred))\n",
    "rmse1 = sqrt(mean_squared_error(y_test,reg1_pred))\n",
    "rmse, rmse1"
   ]
  },
  {
   "cell_type": "code",
   "execution_count": 102,
   "metadata": {},
   "outputs": [],
   "source": [
    "#Save Highest Score\n",
    "AB_claim_pred = reg_1.predict(test)\n",
    "#Adds total_claim_amout column and fill it\n",
    "submission = pd.read_csv('sample_submission.csv')\n",
    "\n",
    "submission['total_claim_amount'] = AB_claim_pred\n",
    "#Adds Customer_ID and fill it\n",
    "submission['Customer_ID'] = test_original['Customer_ID']\n",
    "\n",
    "#Convert submission to .csv file format\n",
    "submission.to_csv('submissions/AB_claim_pred.csv', index = False)"
   ]
  },
  {
   "cell_type": "markdown",
   "metadata": {},
   "source": [
    "# Randomized Search"
   ]
  },
  {
   "cell_type": "code",
   "execution_count": 103,
   "metadata": {},
   "outputs": [],
   "source": [
    "from sklearn.model_selection import GridSearchCV\n",
    "from scipy.stats import uniform as sp_rand\n",
    "from sklearn.linear_model import Ridge\n",
    "from sklearn.model_selection import RandomizedSearchCV\n",
    "\n",
    "#instantiate the model\n",
    "model = LinearRegression()\n",
    "#set parameters\n",
    "parameters = {'fit_intercept':[True,False], 'normalize':[True,False], 'copy_X':[True, False]}\n",
    "grid = GridSearchCV(model,parameters, cv=None)\n",
    "\n",
    "#fit/train the model\n",
    "grid.fit(X_train, y_train);"
   ]
  },
  {
   "cell_type": "code",
   "execution_count": 104,
   "metadata": {},
   "outputs": [
    {
     "name": "stdout",
     "output_type": "stream",
     "text": [
      "RandomizedSearchCV(cv='warn', error_score='raise-deprecating',\n",
      "                   estimator=Ridge(alpha=1.0, copy_X=True, fit_intercept=True,\n",
      "                                   max_iter=None, normalize=False,\n",
      "                                   random_state=None, solver='auto',\n",
      "                                   tol=0.001),\n",
      "                   iid='warn', n_iter=100, n_jobs=None,\n",
      "                   param_distributions={'alpha': <scipy.stats._distn_infrastructure.rv_frozen object at 0x0F5B7E30>},\n",
      "                   pre_dispatch='2*n_jobs', random_state=None, refit=True,\n",
      "                   return_train_score=False, scoring=None, verbose=0)\n",
      "0.6581668351414903\n",
      "0.6664923449182928\n"
     ]
    }
   ],
   "source": [
    "# prepare a uniform distribution to sample for the alpha parameter\n",
    "param_grid = {'alpha': sp_rand()}\n",
    "# create and fit a ridge regression model, testing random alpha values\n",
    "model = Ridge()\n",
    "rsearch = RandomizedSearchCV(estimator=model, param_distributions=param_grid, n_iter=100)\n",
    "rsearch.fit(X_train, y_train);\n",
    "print(rsearch)\n",
    "# summarize the results of the random parameter search\n",
    "print(rsearch.best_score_)\n",
    "print(rsearch.best_estimator_.alpha);"
   ]
  },
  {
   "cell_type": "code",
   "execution_count": 105,
   "metadata": {},
   "outputs": [
    {
     "data": {
      "text/plain": [
       "(20758.977610854272, 20731.332644442347)"
      ]
     },
     "execution_count": 105,
     "metadata": {},
     "output_type": "execute_result"
    }
   ],
   "source": [
    "#prediction with GB and AB\n",
    "rs_pred = rsearch.predict(X_test)\n",
    "grid_pred = grid.predict(X_test)\n",
    "#root mean square error\n",
    "rmse = sqrt(mean_squared_error(y_test, rs_pred))\n",
    "rmse1 = sqrt(mean_squared_error(y_test, grid_pred))\n",
    "rmse, rmse1"
   ]
  },
  {
   "cell_type": "markdown",
   "metadata": {},
   "source": [
    "# Polynomial and Linear Regression"
   ]
  },
  {
   "cell_type": "code",
   "execution_count": 106,
   "metadata": {},
   "outputs": [
    {
     "data": {
      "text/plain": [
       "LinearRegression(copy_X=True, fit_intercept=True, n_jobs=None, normalize=False)"
      ]
     },
     "execution_count": 106,
     "metadata": {},
     "output_type": "execute_result"
    }
   ],
   "source": [
    "#Importing Linear Regression\n",
    "from sklearn.linear_model import LinearRegression\n",
    "\n",
    "# Training Model\n",
    "lm=LinearRegression()\n",
    "lm.fit(X_train,y_train)"
   ]
  },
  {
   "cell_type": "code",
   "execution_count": 107,
   "metadata": {},
   "outputs": [],
   "source": [
    "# importing libraries for polynomial transform\n",
    "from sklearn.preprocessing import PolynomialFeatures\n",
    "# for creating pipeline\n",
    "from sklearn.pipeline import Pipeline\n",
    "\n",
    "# creating pipeline and fitting it on data\n",
    "Input=[('polynomial',PolynomialFeatures(degree=2)),('modal',LinearRegression())]\n",
    "\n",
    "pipe=Pipeline(Input)\n",
    "pipe.fit(X_train,y_train);"
   ]
  },
  {
   "cell_type": "code",
   "execution_count": 108,
   "metadata": {},
   "outputs": [],
   "source": [
    "#predict wit linear\n",
    "linear_pred=lm.predict(X_test)\n",
    "#predict with polynomial\n",
    "poly_pred=pipe.predict(X_test)"
   ]
  },
  {
   "cell_type": "code",
   "execution_count": 109,
   "metadata": {},
   "outputs": [
    {
     "name": "stdout",
     "output_type": "stream",
     "text": [
      "RMSE for Polynomial Regression=> 81241.61419916611\n",
      "RMSE for Linear Regression=> 20731.332644043752\n"
     ]
    }
   ],
   "source": [
    "print('RMSE for Polynomial Regression=>',np.sqrt(mean_squared_error(y_test,poly_pred)))\n",
    "print('RMSE for Linear Regression=>',np.sqrt(mean_squared_error(y_test,linear_pred)))"
   ]
  },
  {
   "cell_type": "markdown",
   "metadata": {},
   "source": [
    "# Ordinary Least Squares"
   ]
  },
  {
   "cell_type": "code",
   "execution_count": 110,
   "metadata": {},
   "outputs": [],
   "source": [
    "#import libraries\n",
    "import statsmodels.api as sm\n",
    "# adding a constants\n",
    "X_train = sm.add_constant(X_train)\n",
    "X_test = sm.add_constant(X_test)\n",
    "#train the model\n",
    "model = sm.OLS(y_train, X_train).fit()"
   ]
  },
  {
   "cell_type": "code",
   "execution_count": 111,
   "metadata": {},
   "outputs": [
    {
     "data": {
      "text/plain": [
       "20731.33264271839"
      ]
     },
     "execution_count": 111,
     "metadata": {},
     "output_type": "execute_result"
    }
   ],
   "source": [
    "#prediction with GB and AB\n",
    "ols_pred = model.predict(X_test) \n",
    "#root mean square error\n",
    "rmse = sqrt(mean_squared_error(y_test, ols_pred))\n",
    "rmse"
   ]
  },
  {
   "cell_type": "markdown",
   "metadata": {},
   "source": [
    "# Simplified LinearRegression Model"
   ]
  },
  {
   "cell_type": "markdown",
   "metadata": {},
   "source": [
    "<b> LRM</b>"
   ]
  },
  {
   "cell_type": "code",
   "execution_count": 112,
   "metadata": {},
   "outputs": [
    {
     "data": {
      "text/plain": [
       "LinearRegression(copy_X=True, fit_intercept=True, n_jobs=None, normalize=False)"
      ]
     },
     "execution_count": 112,
     "metadata": {},
     "output_type": "execute_result"
    }
   ],
   "source": [
    "#import mse\n",
    "from sklearn.metrics import mean_squared_error\n",
    "\n",
    "#Split the dataset\n",
    "X_train, X_test, y_train, y_test = train_test_split(X, y, test_size = 0.2, random_state=42)\n",
    "lin_reg_mod = LinearRegression()\n",
    "#fit the model\n",
    "lin_reg_mod.fit(X_train, y_train)"
   ]
  },
  {
   "cell_type": "code",
   "execution_count": 114,
   "metadata": {},
   "outputs": [
    {
     "data": {
      "text/plain": [
       "20731.332644043752"
      ]
     },
     "execution_count": 114,
     "metadata": {},
     "output_type": "execute_result"
    }
   ],
   "source": [
    "#make a prediction\n",
    "final_pred = lin_reg_mod.predict(X_test)\n",
    "#RMSE\n",
    "rmse = (sqrt(mean_squared_error(y_test, final_pred)))\n",
    "rmse"
   ]
  },
  {
   "cell_type": "code",
   "execution_count": 116,
   "metadata": {},
   "outputs": [],
   "source": [
    "final_pred = lin_reg_mod.predict(test)\n",
    "#Adds total_claim_amout column and fill it\n",
    "submission = pd.read_csv('sample_submission.csv')\n",
    "submission['total_claim_amount'] = final_pred\n",
    "#Adds Customer_ID and fill it\n",
    "submission['Customer_ID'] = test_original['Customer_ID']\n",
    "#Convert submission to .csv file format\n",
    "submission.to_csv('final_pred_model.csv', index = False)"
   ]
  },
  {
   "cell_type": "markdown",
   "metadata": {},
   "source": [
    "# Complex Linear Regression Models"
   ]
  },
  {
   "cell_type": "code",
   "execution_count": 117,
   "metadata": {},
   "outputs": [],
   "source": [
    "#split test and training dataset\n",
    "X_train, X_test, y_train, y_test = train_test_split(X, y, test_size = 0.2, random_state=42)\n",
    "\n",
    "# import necessary libraries\n",
    "from random import random\n",
    "from random import randint\n",
    "from random import seed\n",
    "from numpy import arange\n",
    "from numpy import mean\n",
    "from numpy import std\n",
    "from numpy import absolute\n",
    "from sklearn.linear_model import LinearRegression\n",
    "from sklearn.model_selection import cross_val_score\n",
    "from sklearn.model_selection import RepeatedKFold\n",
    "from matplotlib import pyplot\n",
    "\n",
    "\n",
    "# 1. evaluate a model\n",
    "def evaluate_model(X, y, model):\n",
    "    # define model evaluation method\n",
    "    cv = RepeatedKFold(n_splits=10, n_repeats=3, random_state=1)\n",
    "    # evaluate model\n",
    "    scores = cross_val_score(model, X, y, scoring='neg_mean_absolute_error', cv=cv, n_jobs=-1)\n",
    "    # force scores to be positive\n",
    "    return absolute(scores)"
   ]
  },
  {
   "cell_type": "code",
   "execution_count": 118,
   "metadata": {},
   "outputs": [
    {
     "name": "stdout",
     "output_type": "stream",
     "text": [
      "Mean MAE:19513.743706270492, STD: 3704.4598644252983\n"
     ]
    }
   ],
   "source": [
    "# 2. plot the dataset and the model's line of best fit\n",
    "def best_fit(X, y, model):\n",
    "    #fits the model to the training data\n",
    "    model.fit(X, y)\n",
    "    #return the fitted model\n",
    "    return model\n",
    "\n",
    "# 3. define the model, evalutate and fit it\n",
    "model = LinearRegression()\n",
    "# evaluate model\n",
    "results = evaluate_model(X_test, y_test, model)\n",
    "#predict results\n",
    "print(f'Mean MAE:{mean(results)}, STD: {std(results)}')\n",
    "# fit the model\n",
    "fitted_model = best_fit(X_train, y_train, model)"
   ]
  },
  {
   "cell_type": "code",
   "execution_count": 119,
   "metadata": {},
   "outputs": [
    {
     "name": "stdout",
     "output_type": "stream",
     "text": [
      "Mean MAE:19513.743706270492, STD: 3704.4598644252983\n"
     ]
    },
    {
     "data": {
      "text/plain": [
       "20731.332644043752"
      ]
     },
     "execution_count": 119,
     "metadata": {},
     "output_type": "execute_result"
    }
   ],
   "source": [
    "# 3. define the model, evalutate and fit it\n",
    "model = LinearRegression()\n",
    "# evaluate model\n",
    "results = evaluate_model(X_test, y_test, model)\n",
    "#predict results\n",
    "print(f'Mean MAE:{mean(results)}, STD: {std(results)}')\n",
    "# fit the model\n",
    "fitted_model = best_fit(X_train, y_train, model)\n",
    "#predict the target\n",
    "pred_results = fitted_model.predict(X_test)\n",
    "#RMSE\n",
    "rmse = (sqrt(mean_squared_error(y_test, pred_results)))\n",
    "rmse"
   ]
  },
  {
   "cell_type": "markdown",
   "metadata": {},
   "source": [
    "# Linear Regression with QuantileTransformer"
   ]
  },
  {
   "cell_type": "code",
   "execution_count": 120,
   "metadata": {},
   "outputs": [],
   "source": [
    "#import libraries\n",
    "from sklearn.compose import TransformedTargetRegressor\n",
    "from sklearn.preprocessing import QuantileTransformer\n",
    "\n",
    "\n",
    "transformer = QuantileTransformer(output_distribution = 'normal')\n",
    "regressor = LinearRegression()\n",
    "regression_model_3 = TransformedTargetRegressor(regressor = regressor, transformer = transformer)\n",
    "#Model3 with transformed target variable \n",
    "regression_model_3.fit(X_train, y_train);"
   ]
  },
  {
   "cell_type": "code",
   "execution_count": 121,
   "metadata": {},
   "outputs": [
    {
     "data": {
      "text/plain": [
       "'Root Mean Square Error: 20711.926606755063'"
      ]
     },
     "execution_count": 121,
     "metadata": {},
     "output_type": "execute_result"
    }
   ],
   "source": [
    "#predict and measure RMSE\n",
    "y_pred_3 = regression_model_3.predict(X_test)\n",
    "rmse = sqrt(mean_squared_error(y_test, y_pred_3))\n",
    "f'Root Mean Square Error: {rmse}'"
   ]
  },
  {
   "cell_type": "code",
   "execution_count": null,
   "metadata": {},
   "outputs": [],
   "source": []
  }
 ],
 "metadata": {
  "kernelspec": {
   "display_name": "Python 3",
   "language": "python",
   "name": "python3"
  },
  "language_info": {
   "codemirror_mode": {
    "name": "ipython",
    "version": 3
   },
   "file_extension": ".py",
   "mimetype": "text/x-python",
   "name": "python",
   "nbconvert_exporter": "python",
   "pygments_lexer": "ipython3",
   "version": "3.7.4"
  }
 },
 "nbformat": 4,
 "nbformat_minor": 2
}
