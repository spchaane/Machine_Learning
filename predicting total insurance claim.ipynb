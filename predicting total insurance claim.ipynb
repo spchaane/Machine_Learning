{
 "cells": [
  {
   "cell_type": "markdown",
   "metadata": {},
   "source": [
    "# CLAIM AMOUNT PREDICTIONS FOR JOHNSON INSURANCE PLC"
   ]
  },
  {
   "cell_type": "markdown",
   "metadata": {},
   "source": [
    "# **1. Problem Statement** <br>\n",
    "\n",
    "* Building a predictive model that can provide the total amount of claim by a customer in seconds"
   ]
  },
  {
   "cell_type": "markdown",
   "metadata": {},
   "source": [
    "# <b>2. Hypothesis Generation</b>"
   ]
  },
  {
   "cell_type": "markdown",
   "metadata": {},
   "source": [
    "**a. Policy Deductable:** The monthly contributions on the policy might have the effect on the total amount of the claim by the customer<br>\n",
    "\n",
    "**b. Incident Hour oF The Day:** Some insurance covers regulates the times which are covered by the insurance, this might be one of the affector determing the amount to beclaims<br>\n",
    "\n",
    "**c. Number of Vehicles involved:** The third party claims will result in higher amounts to be paid to the client, if there is no a third party the amount will be less.\n",
    "\n",
    "**e. Property Damage:** The type of property involved will result in higher claims. <br>\n",
    "\n",
    "**f. Policy Annual Premium:** The overall contributions by the client might determine how much they client will  claim per incident<br>\n",
    "\n",
    "**g. Umbrella Limit:** Claim limits can determine the number of times that a client can claim with a direct influence on the total claim amount<br>\n",
    "\n",
    "**h. incident_type :** The type of the incident will determine the saverity and the amounts of damages, which will have an impact on whether the total claim is less or high.\n",
    "\n",
    "**i. collision_type:** Losses will play the same role as capital gains, with direct impact to the amount paid to clients\n",
    "\n",
    "**j. Months as Customer:** - Loyal customers who have spent many years with the company and contributed more towards their insurance covers could be the ones who's claims are processed quicker\n",
    "\n",
    "**k. Incident Severity:** The severity of the incident will determine the level of damages which will directly determine the costs and the total claim amount\n",
    "\n",
    "\n",
    "**j. Authorities Contacted:** Customers who file claims without reporting their incidents to obtain the incident report and case number will determine whether claims will be paid or not. <br>\n",
    "\n",
    "**k. Witnesses:** Claims that have witnesses can strengthen the filed claim they also guarantee that the claim will be paid and the total amount paid wont have any penalties.<br>\n",
    "\n",
    "**l. Auto Make:** The make of the vehicle will influence the total amount of the claim to be paid to the client. <br>\n",
    "\n",
    "**m. Auto Model:** The model of the car will also determine the amount of claim\n",
    "\n",
    "**n. Auto Year:** The age of the car will affect the amount to be paid to the client, cars that are still 1 to few years old will result in higher claim amounts\n",
    "\n",
    "**o. Police Report Available:** Claims that do not have the police report might end up not be paid which will result in zero amount being paid, or the amount paid could be higher or accurate without penalties if there is a report"
   ]
  },
  {
   "cell_type": "markdown",
   "metadata": {},
   "source": [
    "# 3. Loading Packages and Data"
   ]
  },
  {
   "cell_type": "code",
   "execution_count": 2225,
   "metadata": {},
   "outputs": [],
   "source": [
    "#importing modules\n",
    "import numpy as np\n",
    "import pandas as pd\n",
    "import matplotlib.pyplot as plt\n",
    "import seaborn as sns\n",
    "%matplotlib inline\n",
    "\n",
    "\n",
    "import warnings #to ignore warnings\n",
    "warnings.filterwarnings('ignore');"
   ]
  },
  {
   "cell_type": "markdown",
   "metadata": {},
   "source": [
    "# DATA\n",
    "<b>It consists of the training dataset and testing dataset</b><br>\n",
    "\n",
    "<b>Training Data:</b> Will be used to train and test the model accuracy<br>\n",
    "<b>Testing Data:</b> will be used for submission<br>"
   ]
  },
  {
   "cell_type": "code",
   "execution_count": 2226,
   "metadata": {},
   "outputs": [],
   "source": [
    "#creating dataframes\n",
    "load_train = pd.read_csv('train.csv', na_values=[\"?\"]) #na_values will replace \"?\" with NaN\n",
    "load_test = pd.read_csv('test.csv', na_values=[\"?\"])\n",
    "load_submission = pd.read_csv('sample_submission.csv')\n",
    "\n",
    "#making copies to protect the original data\n",
    "train_original = load_train.copy()\n",
    "test_original = load_test.copy()\n",
    "submission_originial = load_submission.copy()\n",
    "\n",
    "train = load_train\n",
    "test = load_test\n",
    "submission = load_submission"
   ]
  },
  {
   "cell_type": "markdown",
   "metadata": {},
   "source": [
    "# 4. Understandng the Data\n",
    "* We check the structure of the train and test data.\n",
    "* Look at the features present in the datasets"
   ]
  },
  {
   "cell_type": "code",
   "execution_count": 2227,
   "metadata": {},
   "outputs": [
    {
     "data": {
      "text/html": [
       "<div>\n",
       "<style scoped>\n",
       "    .dataframe tbody tr th:only-of-type {\n",
       "        vertical-align: middle;\n",
       "    }\n",
       "\n",
       "    .dataframe tbody tr th {\n",
       "        vertical-align: top;\n",
       "    }\n",
       "\n",
       "    .dataframe thead th {\n",
       "        text-align: right;\n",
       "    }\n",
       "</style>\n",
       "<table border=\"1\" class=\"dataframe\">\n",
       "  <thead>\n",
       "    <tr style=\"text-align: right;\">\n",
       "      <th></th>\n",
       "      <th>Customer_ID</th>\n",
       "      <th>months_as_customer</th>\n",
       "      <th>age</th>\n",
       "      <th>insured_sex</th>\n",
       "      <th>insured_education_level</th>\n",
       "      <th>insured_occupation</th>\n",
       "      <th>insured_hobbies</th>\n",
       "      <th>insured_relationship</th>\n",
       "      <th>capital-gains</th>\n",
       "      <th>capital-loss</th>\n",
       "      <th>...</th>\n",
       "      <th>authorities_contacted</th>\n",
       "      <th>incident_state</th>\n",
       "      <th>incident_city</th>\n",
       "      <th>witnesses</th>\n",
       "      <th>police_report_available</th>\n",
       "      <th>auto_make</th>\n",
       "      <th>auto_model</th>\n",
       "      <th>auto_year</th>\n",
       "      <th>_c39</th>\n",
       "      <th>total_claim_amount</th>\n",
       "    </tr>\n",
       "  </thead>\n",
       "  <tbody>\n",
       "    <tr>\n",
       "      <th>0</th>\n",
       "      <td>Customer_541</td>\n",
       "      <td>239</td>\n",
       "      <td>41</td>\n",
       "      <td>FEMALE</td>\n",
       "      <td>JD</td>\n",
       "      <td>farming-fishing</td>\n",
       "      <td>paintball</td>\n",
       "      <td>other-relative</td>\n",
       "      <td>51400</td>\n",
       "      <td>-6300</td>\n",
       "      <td>...</td>\n",
       "      <td>Police</td>\n",
       "      <td>NC</td>\n",
       "      <td>Arlington</td>\n",
       "      <td>2</td>\n",
       "      <td>YES</td>\n",
       "      <td>Mercedes</td>\n",
       "      <td>E400</td>\n",
       "      <td>2013</td>\n",
       "      <td>NaN</td>\n",
       "      <td>14386.67</td>\n",
       "    </tr>\n",
       "    <tr>\n",
       "      <th>1</th>\n",
       "      <td>Customer_440</td>\n",
       "      <td>108</td>\n",
       "      <td>31</td>\n",
       "      <td>MALE</td>\n",
       "      <td>Masters</td>\n",
       "      <td>protective-serv</td>\n",
       "      <td>yachting</td>\n",
       "      <td>not-in-family</td>\n",
       "      <td>0</td>\n",
       "      <td>0</td>\n",
       "      <td>...</td>\n",
       "      <td>Fire</td>\n",
       "      <td>NY</td>\n",
       "      <td>Columbus</td>\n",
       "      <td>2</td>\n",
       "      <td>NO</td>\n",
       "      <td>Dodge</td>\n",
       "      <td>Neon</td>\n",
       "      <td>2006</td>\n",
       "      <td>NaN</td>\n",
       "      <td>76440.00</td>\n",
       "    </tr>\n",
       "    <tr>\n",
       "      <th>2</th>\n",
       "      <td>Customer_482</td>\n",
       "      <td>116</td>\n",
       "      <td>30</td>\n",
       "      <td>MALE</td>\n",
       "      <td>JD</td>\n",
       "      <td>handlers-cleaners</td>\n",
       "      <td>golf</td>\n",
       "      <td>not-in-family</td>\n",
       "      <td>0</td>\n",
       "      <td>-35500</td>\n",
       "      <td>...</td>\n",
       "      <td>Other</td>\n",
       "      <td>WV</td>\n",
       "      <td>Riverwood</td>\n",
       "      <td>3</td>\n",
       "      <td>NaN</td>\n",
       "      <td>Volkswagen</td>\n",
       "      <td>Passat</td>\n",
       "      <td>2004</td>\n",
       "      <td>NaN</td>\n",
       "      <td>79560.00</td>\n",
       "    </tr>\n",
       "    <tr>\n",
       "      <th>3</th>\n",
       "      <td>Customer_422</td>\n",
       "      <td>8</td>\n",
       "      <td>21</td>\n",
       "      <td>MALE</td>\n",
       "      <td>High School</td>\n",
       "      <td>handlers-cleaners</td>\n",
       "      <td>hiking</td>\n",
       "      <td>husband</td>\n",
       "      <td>0</td>\n",
       "      <td>0</td>\n",
       "      <td>...</td>\n",
       "      <td>Other</td>\n",
       "      <td>WV</td>\n",
       "      <td>Columbus</td>\n",
       "      <td>0</td>\n",
       "      <td>NaN</td>\n",
       "      <td>Toyota</td>\n",
       "      <td>Corolla</td>\n",
       "      <td>2012</td>\n",
       "      <td>NaN</td>\n",
       "      <td>121680.00</td>\n",
       "    </tr>\n",
       "    <tr>\n",
       "      <th>4</th>\n",
       "      <td>Customer_778</td>\n",
       "      <td>161</td>\n",
       "      <td>38</td>\n",
       "      <td>MALE</td>\n",
       "      <td>PhD</td>\n",
       "      <td>priv-house-serv</td>\n",
       "      <td>exercise</td>\n",
       "      <td>not-in-family</td>\n",
       "      <td>60200</td>\n",
       "      <td>0</td>\n",
       "      <td>...</td>\n",
       "      <td>Police</td>\n",
       "      <td>WV</td>\n",
       "      <td>Springfield</td>\n",
       "      <td>2</td>\n",
       "      <td>YES</td>\n",
       "      <td>Volkswagen</td>\n",
       "      <td>Jetta</td>\n",
       "      <td>2003</td>\n",
       "      <td>NaN</td>\n",
       "      <td>80640.00</td>\n",
       "    </tr>\n",
       "  </tbody>\n",
       "</table>\n",
       "<p>5 rows × 37 columns</p>\n",
       "</div>"
      ],
      "text/plain": [
       "    Customer_ID  months_as_customer  age insured_sex insured_education_level  \\\n",
       "0  Customer_541                 239   41      FEMALE                      JD   \n",
       "1  Customer_440                 108   31        MALE                 Masters   \n",
       "2  Customer_482                 116   30        MALE                      JD   \n",
       "3  Customer_422                   8   21        MALE             High School   \n",
       "4  Customer_778                 161   38        MALE                     PhD   \n",
       "\n",
       "  insured_occupation insured_hobbies insured_relationship  capital-gains  \\\n",
       "0    farming-fishing       paintball       other-relative          51400   \n",
       "1    protective-serv        yachting        not-in-family              0   \n",
       "2  handlers-cleaners            golf        not-in-family              0   \n",
       "3  handlers-cleaners          hiking              husband              0   \n",
       "4    priv-house-serv        exercise        not-in-family          60200   \n",
       "\n",
       "   capital-loss  ...  authorities_contacted incident_state incident_city  \\\n",
       "0         -6300  ...                 Police             NC     Arlington   \n",
       "1             0  ...                   Fire             NY      Columbus   \n",
       "2        -35500  ...                  Other             WV     Riverwood   \n",
       "3             0  ...                  Other             WV      Columbus   \n",
       "4             0  ...                 Police             WV   Springfield   \n",
       "\n",
       "  witnesses  police_report_available   auto_make  auto_model  auto_year _c39  \\\n",
       "0         2                      YES    Mercedes        E400       2013  NaN   \n",
       "1         2                       NO       Dodge        Neon       2006  NaN   \n",
       "2         3                      NaN  Volkswagen      Passat       2004  NaN   \n",
       "3         0                      NaN      Toyota     Corolla       2012  NaN   \n",
       "4         2                      YES  Volkswagen       Jetta       2003  NaN   \n",
       "\n",
       "   total_claim_amount  \n",
       "0            14386.67  \n",
       "1            76440.00  \n",
       "2            79560.00  \n",
       "3           121680.00  \n",
       "4            80640.00  \n",
       "\n",
       "[5 rows x 37 columns]"
      ]
     },
     "execution_count": 2227,
     "metadata": {},
     "output_type": "execute_result"
    }
   ],
   "source": [
    "#print first five rows and columns\n",
    "train.head()"
   ]
  },
  {
   "cell_type": "code",
   "execution_count": 2228,
   "metadata": {},
   "outputs": [
    {
     "data": {
      "text/plain": [
       "'train: (700, 37), test: (300, 36)'"
      ]
     },
     "execution_count": 2228,
     "metadata": {},
     "output_type": "execute_result"
    }
   ],
   "source": [
    "#shapes of the data\n",
    "f'train: {train.shape}, test: {test.shape}'"
   ]
  },
  {
   "cell_type": "markdown",
   "metadata": {},
   "source": [
    "The training data contains 700 observations and the test contains 300 observations"
   ]
  },
  {
   "cell_type": "code",
   "execution_count": 2229,
   "metadata": {},
   "outputs": [
    {
     "data": {
      "text/plain": [
       "(Index(['Customer_ID', 'months_as_customer', 'age', 'insured_sex',\n",
       "        'insured_education_level', 'insured_occupation', 'insured_hobbies',\n",
       "        'insured_relationship', 'capital-gains', 'capital-loss',\n",
       "        'policy_number', 'policy_bind_date', 'policy_state', 'policy_csl',\n",
       "        'policy_deductable', 'incident_location', 'incident_hour_of_the_day',\n",
       "        'number_of_vehicles_involved', 'property_damage', 'bodily_injuries',\n",
       "        'policy_annual_premium', 'umbrella_limit', 'insured_zip',\n",
       "        'incident_date', 'incident_type', 'collision_type', 'incident_severity',\n",
       "        'authorities_contacted', 'incident_state', 'incident_city', 'witnesses',\n",
       "        'police_report_available', 'auto_make', 'auto_model', 'auto_year',\n",
       "        '_c39', 'total_claim_amount'],\n",
       "       dtype='object'), 37)"
      ]
     },
     "execution_count": 2229,
     "metadata": {},
     "output_type": "execute_result"
    }
   ],
   "source": [
    "#features of training set\n",
    "train.columns, len(train.columns)"
   ]
  },
  {
   "cell_type": "code",
   "execution_count": 2230,
   "metadata": {},
   "outputs": [
    {
     "data": {
      "text/plain": [
       "Customer_ID                     object\n",
       "months_as_customer               int64\n",
       "age                              int64\n",
       "insured_sex                     object\n",
       "insured_education_level         object\n",
       "insured_occupation              object\n",
       "insured_hobbies                 object\n",
       "insured_relationship            object\n",
       "capital-gains                    int64\n",
       "capital-loss                     int64\n",
       "policy_number                    int64\n",
       "policy_bind_date                object\n",
       "policy_state                    object\n",
       "policy_csl                      object\n",
       "policy_deductable                int64\n",
       "incident_location               object\n",
       "incident_hour_of_the_day         int64\n",
       "number_of_vehicles_involved      int64\n",
       "property_damage                 object\n",
       "bodily_injuries                  int64\n",
       "policy_annual_premium          float64\n",
       "umbrella_limit                   int64\n",
       "insured_zip                      int64\n",
       "incident_date                   object\n",
       "incident_type                   object\n",
       "collision_type                  object\n",
       "incident_severity               object\n",
       "authorities_contacted           object\n",
       "incident_state                  object\n",
       "incident_city                   object\n",
       "witnesses                        int64\n",
       "police_report_available         object\n",
       "auto_make                       object\n",
       "auto_model                      object\n",
       "auto_year                        int64\n",
       "_c39                           float64\n",
       "total_claim_amount             float64\n",
       "dtype: object"
      ]
     },
     "execution_count": 2230,
     "metadata": {},
     "output_type": "execute_result"
    }
   ],
   "source": [
    "#print the data types \n",
    "train.dtypes"
   ]
  },
  {
   "cell_type": "code",
   "execution_count": 2231,
   "metadata": {},
   "outputs": [
    {
     "data": {
      "text/plain": [
       "0       14386.67\n",
       "1       76440.00\n",
       "2       79560.00\n",
       "3      121680.00\n",
       "4       80640.00\n",
       "         ...    \n",
       "695    106400.00\n",
       "696    113733.33\n",
       "697     78466.67\n",
       "698     97866.67\n",
       "699     38400.00\n",
       "Name: total_claim_amount, Length: 700, dtype: float64"
      ]
     },
     "execution_count": 2231,
     "metadata": {},
     "output_type": "execute_result"
    }
   ],
   "source": [
    "train.total_claim_amount"
   ]
  },
  {
   "cell_type": "markdown",
   "metadata": {},
   "source": [
    "<b>The data consists of the following types</b><br>\n",
    "\n",
    "<b> Independent Categorical Data</b><br>\n",
    "<b> 7-Objects:</b><br>\n",
    "        \n",
    "   * Customer_ID, insured_sex, insured_education_level, insured_occupation, insured_hobbies, insured_relationship          \n",
    "   * policy_bind_date, policy_state, incident_location, property_damage, incident_date, incident_type, auto_model, policy_csl                 \n",
    "   * collision_type, incident_severity, authorities_contacted, incident_state, incident_city, police_report_available, auto_make\n",
    "    \n",
    "<b> Indepentent Numerical Data</b>\n",
    "\n",
    "<b> Nominal Data</b><br>\n",
    "* number_of_vehicles_involved\n",
    "* bodily_injuries\n",
    "\n",
    "<b> 13-Int64:</b><br>\n",
    "    \n",
    "   * months_as_customer, age, capital-gains, capital-loss, policy_number, policy_deductable, incident_hour_of_the_day\n",
    "   * policy_annual_premium, umbrella_limit, insured_zip, witnesses, auto_year\n",
    "   \n",
    "<b> 3-Float </b><br>\n",
    "   * _c39\n",
    "   * policy_annual_premium\n",
    "\n",
    "<b> Dependent/Target Variable</b><br>\n",
    "<b> 1- float </b><br>\n",
    "   * total_claim_amount (target variable)"
   ]
  },
  {
   "cell_type": "markdown",
   "metadata": {},
   "source": [
    "<b>Target Variable</b><br>\n",
    "* total_claim_amount (target variable)"
   ]
  },
  {
   "cell_type": "markdown",
   "metadata": {},
   "source": [
    "# 5. Exploratory Data Analysis"
   ]
  },
  {
   "cell_type": "markdown",
   "metadata": {},
   "source": [
    "# 5.1 Univariables Analysis\n",
    "\n",
    "**We look at the analysis of each variable:**\n",
    "* Categorical: Frequency table, Percentage distribution and Bar-plot\n",
    "* Numerical: Probability density plot"
   ]
  },
  {
   "cell_type": "markdown",
   "metadata": {},
   "source": [
    "* **Target Variable: total_claim_amount**"
   ]
  },
  {
   "cell_type": "code",
   "execution_count": 2232,
   "metadata": {},
   "outputs": [
    {
     "data": {
      "image/png": "[encoded data removed]",
      "text/plain": [
       "<Figure size 648x288 with 2 Axes>"
      ]
     },
     "metadata": {
      "needs_background": "light"
     },
     "output_type": "display_data"
    }
   ],
   "source": [
    "#density distribution of total_claim_amount\n",
    "plt.figure(1)\n",
    "\n",
    "plt.subplot(121)\n",
    "sns.distplot(train.total_claim_amount); #density distribution\n",
    "\n",
    "plt.subplot(122)\n",
    "train.total_claim_amount.plot.box(figsize = (9, 4))\n",
    "plt.show()"
   ]
  },
  {
   "cell_type": "markdown",
   "metadata": {},
   "source": [
    "* The train.total_claim_amount does not have any extreme values, the distribution is normal, majority of the claims where paid between 50k to 150k. "
   ]
  },
  {
   "cell_type": "markdown",
   "metadata": {},
   "source": [
    "* **policy_annual_premium**"
   ]
  },
  {
   "cell_type": "code",
   "execution_count": 2233,
   "metadata": {},
   "outputs": [
    {
     "data": {
      "image/png": "[encoded data removed]",
      "text/plain": [
       "<Figure size 648x288 with 2 Axes>"
      ]
     },
     "metadata": {
      "needs_background": "light"
     },
     "output_type": "display_data"
    }
   ],
   "source": [
    "# distribution of policy_annual_premium\n",
    "plt.figure(1)\n",
    "plt.subplot(121)\n",
    "sns.distplot(train.policy_annual_premium)\n",
    "plt.subplot(122)\n",
    "train.policy_annual_premium.plot.box(figsize = (9, 4))\n",
    "plt.show()"
   ]
  },
  {
   "cell_type": "markdown",
   "metadata": {},
   "source": [
    " "
   ]
  },
  {
   "cell_type": "markdown",
   "metadata": {},
   "source": [
    "* **months_as_customer and age**"
   ]
  },
  {
   "cell_type": "code",
   "execution_count": 2234,
   "metadata": {},
   "outputs": [
    {
     "data": {
      "image/png": "[encoded data removed]",
      "text/plain": [
       "<Figure size 432x288 with 2 Axes>"
      ]
     },
     "metadata": {
      "needs_background": "light"
     },
     "output_type": "display_data"
    }
   ],
   "source": [
    "# distribution of months_as_customer\n",
    "plt.figure(1)\n",
    "plt.subplot(121)\n",
    "sns.distplot(train.months_as_customer)\n",
    "plt.subplot(122)\n",
    "sns.distplot(train.age)\n",
    "plt.show()"
   ]
  },
  {
   "cell_type": "markdown",
   "metadata": {},
   "source": [
    "* **capital-gains**"
   ]
  },
  {
   "cell_type": "code",
   "execution_count": 2235,
   "metadata": {},
   "outputs": [
    {
     "data": {
      "image/png": "[encoded data removed]",
      "text/plain": [
       "<Figure size 648x288 with 2 Axes>"
      ]
     },
     "metadata": {
      "needs_background": "light"
     },
     "output_type": "display_data"
    }
   ],
   "source": [
    "plt.figure(1)\n",
    "plt.subplot(121)\n",
    "sns.distplot(train['capital-gains'])\n",
    "plt.subplot(122)\n",
    "train['capital-gains'].plot.box(figsize = (9, 4))\n",
    "plt.show()"
   ]
  },
  {
   "cell_type": "code",
   "execution_count": 2236,
   "metadata": {},
   "outputs": [
    {
     "data": {
      "text/plain": [
       "0    51400\n",
       "1        0\n",
       "2        0\n",
       "3        0\n",
       "4    60200\n",
       "Name: capital-gains, dtype: int64"
      ]
     },
     "execution_count": 2236,
     "metadata": {},
     "output_type": "execute_result"
    }
   ],
   "source": [
    "train['capital-gains'].head()"
   ]
  },
  {
   "cell_type": "markdown",
   "metadata": {},
   "source": [
    "* **capital-loss**"
   ]
  },
  {
   "cell_type": "code",
   "execution_count": 2237,
   "metadata": {},
   "outputs": [
    {
     "data": {
      "image/png": "[encoded data removed]",
      "text/plain": [
       "<Figure size 648x288 with 2 Axes>"
      ]
     },
     "metadata": {
      "needs_background": "light"
     },
     "output_type": "display_data"
    }
   ],
   "source": [
    "plt.figure(1)\n",
    "plt.subplot(121)\n",
    "sns.distplot(train['capital-loss'])\n",
    "plt.subplot(122)\n",
    "train['capital-loss'].plot.box(figsize = (9, 4))\n",
    "plt.show()"
   ]
  },
  {
   "cell_type": "markdown",
   "metadata": {},
   "source": [
    "* **policy_deductable and incident_hour_of_the_day**"
   ]
  },
  {
   "cell_type": "code",
   "execution_count": 2238,
   "metadata": {},
   "outputs": [
    {
     "data": {
      "image/png": "[encoded data removed]",
      "text/plain": [
       "<Figure size 648x288 with 2 Axes>"
      ]
     },
     "metadata": {
      "needs_background": "light"
     },
     "output_type": "display_data"
    },
    {
     "data": {
      "image/png": "[encoded data removed]",
      "text/plain": [
       "<Figure size 648x288 with 2 Axes>"
      ]
     },
     "metadata": {
      "needs_background": "light"
     },
     "output_type": "display_data"
    }
   ],
   "source": [
    "plt.figure(1)\n",
    "plt.subplot(121)\n",
    "sns.distplot(train['policy_deductable'])\n",
    "plt.subplot(122)\n",
    "train['policy_deductable'].plot.box(figsize = (9, 4))\n",
    "plt.show()\n",
    "\n",
    "plt.figure(2)\n",
    "plt.subplot(121)\n",
    "sns.distplot(train.incident_hour_of_the_day)\n",
    "plt.subplot(122)\n",
    "train['incident_hour_of_the_day'].plot.box(figsize = (9, 4))\n",
    "plt.show()"
   ]
  },
  {
   "cell_type": "markdown",
   "metadata": {},
   "source": [
    "* **number_of_vehicles_involved**"
   ]
  },
  {
   "cell_type": "code",
   "execution_count": 2239,
   "metadata": {},
   "outputs": [
    {
     "data": {
      "image/png": "[encoded data removed]",
      "text/plain": [
       "<Figure size 648x288 with 2 Axes>"
      ]
     },
     "metadata": {
      "needs_background": "light"
     },
     "output_type": "display_data"
    }
   ],
   "source": [
    "plt.figure(2)\n",
    "plt.subplot(121)\n",
    "sns.distplot(train.number_of_vehicles_involved)\n",
    "plt.subplot(122)\n",
    "train['number_of_vehicles_involved'].plot.box(figsize = (9, 4))\n",
    "plt.show()"
   ]
  },
  {
   "cell_type": "markdown",
   "metadata": {},
   "source": [
    "* **bodily_injuries** \n",
    "* **number_of_vehicles_involved, witnesses**\n",
    "* **authorities_contacted**"
   ]
  },
  {
   "cell_type": "code",
   "execution_count": 2240,
   "metadata": {},
   "outputs": [
    {
     "data": {
      "image/png": "[encoded data removed]",
      "text/plain": [
       "<Figure size 432x288 with 2 Axes>"
      ]
     },
     "metadata": {
      "needs_background": "light"
     },
     "output_type": "display_data"
    },
    {
     "data": {
      "image/png": "[encoded data removed]",
      "text/plain": [
       "<Figure size 432x288 with 2 Axes>"
      ]
     },
     "metadata": {
      "needs_background": "light"
     },
     "output_type": "display_data"
    }
   ],
   "source": [
    "#bar plot\n",
    "plt.figure(1)\n",
    "plt.subplot(121)\n",
    "train['witnesses'].value_counts().plot.bar(title = 'witnesses');\n",
    "plt.subplot(122)\n",
    "#bar plot \n",
    "train.bodily_injuries.value_counts().plot.bar(title = 'bodily_injuries')\n",
    "plt.figure(2)\n",
    "plt.subplot(121)\n",
    "train.number_of_vehicles_involved.value_counts().plot.bar(title = 'number_of_vehicles_involved')\n",
    "plt.subplot(122)\n",
    "train.authorities_contacted.value_counts().plot.bar(title = 'authorities_contacted')\n",
    "plt.show()"
   ]
  },
  {
   "cell_type": "markdown",
   "metadata": {},
   "source": [
    "* **police_report_available**\n",
    "* **police_report_available**\n",
    "* **incident_severity**\n",
    "* **collision_type**"
   ]
  },
  {
   "cell_type": "code",
   "execution_count": 2241,
   "metadata": {},
   "outputs": [
    {
     "data": {
      "image/png": "[encoded data removed]",
      "text/plain": [
       "<Figure size 432x288 with 2 Axes>"
      ]
     },
     "metadata": {
      "needs_background": "light"
     },
     "output_type": "display_data"
    },
    {
     "data": {
      "image/png": "[encoded data removed]",
      "text/plain": [
       "<Figure size 432x288 with 2 Axes>"
      ]
     },
     "metadata": {
      "needs_background": "light"
     },
     "output_type": "display_data"
    }
   ],
   "source": [
    "#bar plot\n",
    "plt.figure(1)\n",
    "plt.subplot(121)\n",
    "train['police_report_available'].value_counts().plot.bar(title = 'police_report_available');\n",
    "plt.subplot(122)\n",
    "#bar plot \n",
    "train.incident_type.value_counts().plot.bar(title = 'incident_type')\n",
    "\n",
    "plt.figure(2)\n",
    "plt.subplot(121)\n",
    "train['incident_severity'].value_counts().plot.bar(title = 'incident_severity');\n",
    "plt.subplot(122)\n",
    "#bar plot \n",
    "train.collision_type.value_counts().plot.bar(title = 'collision_type')\n",
    "plt.show()"
   ]
  },
  {
   "cell_type": "markdown",
   "metadata": {},
   "source": [
    "* **auto_make**\n",
    "* **insured_sex**\n",
    "* **insured_relationship**\n",
    "* **insured_education_level**"
   ]
  },
  {
   "cell_type": "code",
   "execution_count": 2242,
   "metadata": {},
   "outputs": [
    {
     "data": {
      "image/png": "[encoded data removed]",
      "text/plain": [
       "<Figure size 432x288 with 2 Axes>"
      ]
     },
     "metadata": {
      "needs_background": "light"
     },
     "output_type": "display_data"
    },
    {
     "data": {
      "image/png": "[encoded data removed]",
      "text/plain": [
       "<Figure size 432x288 with 2 Axes>"
      ]
     },
     "metadata": {
      "needs_background": "light"
     },
     "output_type": "display_data"
    }
   ],
   "source": [
    "#bar plot\n",
    "plt.figure(1)\n",
    "plt.subplot(121)\n",
    "#bar plot \n",
    "train['auto_make'].value_counts().plot.bar(title = 'auto_make')\n",
    "plt.subplot(122)\n",
    "train['insured_education_level'].value_counts().plot.bar(title = 'insured_education_level')\n",
    "plt.show()\n",
    "\n",
    "plt.figure(2)\n",
    "plt.subplot(121)\n",
    "train.insured_sex.value_counts().plot.bar(title = 'insured_sex')\n",
    "plt.subplot(122)\n",
    "train.insured_relationship.value_counts().plot.bar(title = 'insured_relationship')\n",
    "\n",
    "plt.show()"
   ]
  },
  {
   "cell_type": "code",
   "execution_count": 2243,
   "metadata": {},
   "outputs": [
    {
     "data": {
      "image/png": "[encoded data removed]",
      "text/plain": [
       "<Figure size 720x360 with 1 Axes>"
      ]
     },
     "metadata": {
      "needs_background": "light"
     },
     "output_type": "display_data"
    }
   ],
   "source": [
    "#visualize auto year\n",
    "f, ax = plt.subplots(figsize=(10, 5))\n",
    "sns.countplot(y=\"auto_year\", data=train, color=\"c\");"
   ]
  },
  {
   "cell_type": "markdown",
   "metadata": {},
   "source": [
    "# 5.2 Bivariable Analysis\n",
    "\n",
    "**Analysis will be based on Independent variables and target variable to see the relationship between them**"
   ]
  },
  {
   "cell_type": "markdown",
   "metadata": {},
   "source": [
    "* **Insured Sex vs Total Claim Amount**"
   ]
  },
  {
   "cell_type": "code",
   "execution_count": 2244,
   "metadata": {},
   "outputs": [
    {
     "data": {
      "image/png": "[encoded data removed]",
      "text/plain": [
       "<Figure size 432x288 with 1 Axes>"
      ]
     },
     "metadata": {
      "needs_background": "light"
     },
     "output_type": "display_data"
    },
    {
     "data": {
      "image/png": "[encoded data removed]",
      "text/plain": [
       "<Figure size 432x288 with 1 Axes>"
      ]
     },
     "metadata": {
      "needs_background": "light"
     },
     "output_type": "display_data"
    }
   ],
   "source": [
    "plt.figure(1)\n",
    "plt.subplot(121)\n",
    "sns.boxplot(x = 'insured_sex', y = 'total_claim_amount', data = train)\n",
    "plt.show()\n",
    "\n",
    "plt.figure(2)\n",
    "plt.subplot(121)\n",
    "sns.boxplot(x = 'witnesses', y = 'total_claim_amount', data = train);\n",
    "plt.show()"
   ]
  },
  {
   "cell_type": "markdown",
   "metadata": {},
   "source": [
    "* **visualize insured_sex**\n",
    "* **total_claim_amount**\n",
    "* **insured_education_level**"
   ]
  },
  {
   "cell_type": "code",
   "execution_count": 2245,
   "metadata": {},
   "outputs": [
    {
     "data": {
      "image/png": "[encoded data removed]",
      "text/plain": [
       "<Figure size 488.75x360 with 1 Axes>"
      ]
     },
     "metadata": {
      "needs_background": "light"
     },
     "output_type": "display_data"
    }
   ],
   "source": [
    "#visualize insured_sex\n",
    "#total_claim_amount\n",
    "#insured_education_level\n",
    "sns.catplot(x=\"insured_sex\", y=\"total_claim_amount\", hue=\"insured_education_level\", kind=\"bar\", data=train);"
   ]
  },
  {
   "cell_type": "markdown",
   "metadata": {},
   "source": [
    "* **umbrella_limit**\n",
    "* **total_claim_amount**"
   ]
  },
  {
   "cell_type": "code",
   "execution_count": 2246,
   "metadata": {},
   "outputs": [
    {
     "data": {
      "image/png": "[encoded data removed]",
      "text/plain": [
       "<Figure size 432x288 with 1 Axes>"
      ]
     },
     "metadata": {
      "needs_background": "light"
     },
     "output_type": "display_data"
    }
   ],
   "source": [
    "#Using violin to plot the item types as well\n",
    "plt.xticks(rotation = 90)\n",
    "sns.violinplot(x = train.umbrella_limit, y= train.total_claim_amount);"
   ]
  },
  {
   "cell_type": "markdown",
   "metadata": {},
   "source": [
    "* **incident_type**\n",
    "* **age**\n",
    "* **policy_state**"
   ]
  },
  {
   "cell_type": "code",
   "execution_count": 2247,
   "metadata": {},
   "outputs": [
    {
     "data": {
      "image/png": "[encoded data removed]",
      "text/plain": [
       "<Figure size 435.25x360 with 1 Axes>"
      ]
     },
     "metadata": {
      "needs_background": "light"
     },
     "output_type": "display_data"
    }
   ],
   "source": [
    "#visuallize with Item_Type and Outlet_Size\n",
    "sns.catplot(x=\"policy_state\", y=\"total_claim_amount\", hue=\"insured_sex\",  kind=\"box\", data= train);"
   ]
  },
  {
   "cell_type": "code",
   "execution_count": 2248,
   "metadata": {},
   "outputs": [
    {
     "data": {
      "image/png": "[encoded data removed]",
      "text/plain": [
       "<Figure size 466.25x360 with 1 Axes>"
      ]
     },
     "metadata": {
      "needs_background": "light"
     },
     "output_type": "display_data"
    },
    {
     "data": {
      "image/png": "[encoded data removed]",
      "text/plain": [
       "<Figure size 435.25x360 with 1 Axes>"
      ]
     },
     "metadata": {
      "needs_background": "light"
     },
     "output_type": "display_data"
    }
   ],
   "source": [
    "#collision type, total_claim_amount, gender\n",
    "sns.catplot(x=\"insured_sex\", y=\"total_claim_amount\", hue=\"collision_type\", kind=\"bar\", data=train);\n",
    "sns.catplot(x=\"collision_type\", y=\"total_claim_amount\", hue=\"insured_sex\", kind=\"bar\", data=train);"
   ]
  },
  {
   "cell_type": "markdown",
   "metadata": {},
   "source": [
    "# 6. Hanlding Missing Values and Outliers"
   ]
  },
  {
   "cell_type": "code",
   "execution_count": 2249,
   "metadata": {},
   "outputs": [
    {
     "data": {
      "text/plain": [
       "_c39                       700\n",
       "property_damage            255\n",
       "police_report_available    224\n",
       "collision_type             117\n",
       "dtype: int64"
      ]
     },
     "execution_count": 2249,
     "metadata": {},
     "output_type": "execute_result"
    }
   ],
   "source": [
    "#sorting missing values columns and filtering 0 missing value cols\n",
    "missing_value_cols = train.isnull().sum()\n",
    "missing_value_cols = missing_value_cols[missing_value_cols != 0]\n",
    "missing_value_cols.sort_values(ascending = False)"
   ]
  },
  {
   "cell_type": "code",
   "execution_count": 2250,
   "metadata": {},
   "outputs": [],
   "source": [
    "#Replace missing values with the mode for categorical and or mean/median for numerical\n",
    "#train dataset\n",
    "train['property_damage'].fillna(train['property_damage'].mode()[0], inplace = True)\n",
    "train['police_report_available'].fillna(train['police_report_available'].mode()[0], inplace = True)\n",
    "train['collision_type'].fillna(train['collision_type'].mode()[0], inplace = True)\n",
    "\n",
    "#test dataset\n",
    "#Replace missing values with the mode for categorical and or mean/median for numerical\n",
    "test['property_damage'].fillna(test['property_damage'].mode()[0], inplace = True)\n",
    "test['police_report_available'].fillna(test['police_report_available'].mode()[0], inplace = True)\n",
    "test['collision_type'].fillna(test['collision_type'].mode()[0], inplace = True)"
   ]
  },
  {
   "cell_type": "code",
   "execution_count": 2251,
   "metadata": {},
   "outputs": [
    {
     "data": {
      "text/plain": [
       "_c39    700\n",
       "dtype: int64"
      ]
     },
     "execution_count": 2251,
     "metadata": {},
     "output_type": "execute_result"
    }
   ],
   "source": [
    "#sorting missing values columns and filtering 0 missing value cols\n",
    "missing_value_cols = train.isnull().sum()\n",
    "missing_value_cols = missing_value_cols[missing_value_cols != 0]\n",
    "missing_value_cols.sort_values(ascending = False)"
   ]
  },
  {
   "cell_type": "code",
   "execution_count": 2252,
   "metadata": {},
   "outputs": [],
   "source": [
    "#drop the _c39 column since it consists of nan only\n",
    "train = train.drop(['_c39'], axis = 'columns')\n",
    "test = test.drop(['_c39'], axis = 'columns')"
   ]
  },
  {
   "cell_type": "code",
   "execution_count": 2253,
   "metadata": {},
   "outputs": [
    {
     "data": {
      "text/plain": [
       "NO     479\n",
       "YES    221\n",
       "Name: property_damage, dtype: int64"
      ]
     },
     "execution_count": 2253,
     "metadata": {},
     "output_type": "execute_result"
    }
   ],
   "source": [
    "#property damage\n",
    "train.property_damage.value_counts()"
   ]
  },
  {
   "cell_type": "markdown",
   "metadata": {},
   "source": [
    "**Correlations on Data**"
   ]
  },
  {
   "cell_type": "code",
   "execution_count": 2254,
   "metadata": {},
   "outputs": [
    {
     "data": {
      "image/png": "[encoded data removed]",
      "text/plain": [
       "<Figure size 360x360 with 2 Axes>"
      ]
     },
     "metadata": {
      "needs_background": "light"
     },
     "output_type": "display_data"
    }
   ],
   "source": [
    "#view Correlations\n",
    "matrix = train.corr()\n",
    "f, ax = plt.subplots(figsize = (5, 5))\n",
    "sns.heatmap(matrix, vmax = 0.8, square = True, cmap = 'crest');"
   ]
  },
  {
   "cell_type": "markdown",
   "metadata": {},
   "source": [
    "# 7. Pre-Processing Data<br>\n",
    "\n",
    "**Transoform The Following Data**\n",
    "\n",
    "* police_report_available:\n",
    "* property_damage:\n",
    "* collision_type:\n",
    "* policy_state:\n",
    "* insured_sex:\n",
    "* insured_education_level:\n",
    "* policy_csl"
   ]
  },
  {
   "cell_type": "markdown",
   "metadata": {},
   "source": [
    "# 7.1 One Hot Encoding "
   ]
  },
  {
   "cell_type": "code",
   "execution_count": 2255,
   "metadata": {},
   "outputs": [],
   "source": [
    "#One Hot Encoding\n",
    "from sklearn.preprocessing import LabelEncoder\n",
    "#instantiate LabelEncoder to create le object\n",
    "le = LabelEncoder()\n",
    "\n",
    "#train set\n",
    "train['insured_education_level'] = le.fit_transform(train['insured_education_level'])\n",
    "#train['incident_severity'] = le.fit_transform(train['incident_severity'])\n",
    "train['insured_sex'] = le.fit_transform(train['insured_sex'])\n",
    "train['insured_occupation'] = le.fit_transform(train['insured_occupation'])\n",
    "train['insured_hobbies'] = le.fit_transform(train['insured_hobbies'])\n",
    "train['insured_relationship'] = le.fit_transform(train['insured_relationship'])\n",
    "#train['policy_state'] = le.fit_transform(train['policy_state'])\n",
    "train['property_damage'] = le.fit_transform(train['property_damage'])\n",
    "#train['incident_type'] = le.fit_transform(train['incident_type'])\n",
    "train['incident_state'] = le.fit_transform(train['incident_state'])\n",
    "train['incident_city'] = le.fit_transform(train['incident_city'])\n",
    "train['witnesses'] = le.fit_transform(train['witnesses'])\n",
    "train['police_report_available'] = le.fit_transform(train['police_report_available'])\n",
    "train['auto_make'] = le.fit_transform(train['auto_make'])\n",
    "train['auto_model'] = le.fit_transform(train['auto_model'])\n",
    "train['authorities_contacted'] = le.fit_transform(train['authorities_contacted'])\n",
    "\n",
    "train['collision_type'] = le.fit_transform(train['collision_type'])\n",
    "\n",
    "#test set\n",
    "test['insured_education_level'] = le.fit_transform(test['insured_education_level'])\n",
    "#test['incident_severity'] = le.fit_transform(test['incident_severity'])\n",
    "test['insured_sex'] = le.fit_transform(test['insured_sex'])\n",
    "test['insured_occupation'] = le.fit_transform(test['insured_occupation'])\n",
    "test['insured_hobbies'] = le.fit_transform(test['insured_hobbies'])\n",
    "test['insured_relationship'] = le.fit_transform(test['insured_relationship'])\n",
    "#test['policy_state'] = le.fit_transform(test['policy_state'])\n",
    "test['property_damage'] = le.fit_transform(test['property_damage'])\n",
    "#test['incident_type'] = le.fit_transform(test['incident_type'])\n",
    "test['incident_city'] = le.fit_transform(test['incident_city'])\n",
    "test['witnesses'] = le.fit_transform(test['witnesses'])\n",
    "test['police_report_available'] = le.fit_transform(test['police_report_available'])\n",
    "test['auto_model'] = le.fit_transform(test['auto_model'])\n",
    "test['authorities_contacted'] = le.fit_transform(test['authorities_contacted'])\n",
    "test['auto_make'] = le.fit_transform(test['auto_make'])\n",
    "test['collision_type'] = le.fit_transform(test['collision_type'])\n",
    "test['incident_state'] = le.fit_transform(test['incident_state'])"
   ]
  },
  {
   "cell_type": "code",
   "execution_count": 2256,
   "metadata": {},
   "outputs": [],
   "source": [
    "#CHECK POINT TO COPY THE FILES TO USE IN OTHER DIFFIRENT MODELS\n",
    "train_special_copy = train.copy()\n",
    "test_special_copy = test.copy()"
   ]
  },
  {
   "cell_type": "code",
   "execution_count": 2257,
   "metadata": {},
   "outputs": [],
   "source": [
    "#convert string float fractions in policy_csl into floats\n",
    "df = train.copy()\n",
    "df[[\"numerator\", \"denominator\"]] = df[\"policy_csl\"].str.split(\"/\", expand=True)\n",
    "\n",
    "#add to train and test data\n",
    "train[\"policy_csl_float\"] = df[\"numerator\"].astype(float) / df[\"denominator\"].astype(float)\n",
    "test[\"policy_csl_float\"] = df[\"numerator\"].astype(float) / df[\"denominator\"].astype(float)"
   ]
  },
  {
   "cell_type": "code",
   "execution_count": 2258,
   "metadata": {},
   "outputs": [
    {
     "name": "stdout",
     "output_type": "stream",
     "text": [
      "0    0.500000\n",
      "1    0.500000\n",
      "2    0.500000\n",
      "3    0.500000\n",
      "4    0.333333\n",
      "Name: policy_csl_float, dtype: float64 0.5\n"
     ]
    }
   ],
   "source": [
    "print(test.policy_csl_float.head(), train.policy_csl_float[0])"
   ]
  },
  {
   "cell_type": "code",
   "execution_count": 2259,
   "metadata": {},
   "outputs": [
    {
     "data": {
      "text/plain": [
       "array([4, 1, 3, 0, 2])"
      ]
     },
     "execution_count": 2259,
     "metadata": {},
     "output_type": "execute_result"
    }
   ],
   "source": [
    "train.authorities_contacted.unique()"
   ]
  },
  {
   "cell_type": "code",
   "execution_count": 2260,
   "metadata": {},
   "outputs": [
    {
     "data": {
      "text/plain": [
       "array([1, 0, 2])"
      ]
     },
     "execution_count": 2260,
     "metadata": {},
     "output_type": "execute_result"
    }
   ],
   "source": [
    "train.collision_type.unique()"
   ]
  },
  {
   "cell_type": "code",
   "execution_count": 2261,
   "metadata": {},
   "outputs": [
    {
     "data": {
      "text/plain": [
       "array([0, 1, 5, 6, 2, 4, 3])"
      ]
     },
     "execution_count": 2261,
     "metadata": {},
     "output_type": "execute_result"
    }
   ],
   "source": [
    "train.incident_city.unique()"
   ]
  },
  {
   "cell_type": "code",
   "execution_count": 2262,
   "metadata": {},
   "outputs": [
    {
     "data": {
      "text/plain": [
       "(array(['250/500', '500/1000', '100/300'], dtype=object),\n",
       " array([0.5       , 0.33333333]))"
      ]
     },
     "execution_count": 2262,
     "metadata": {},
     "output_type": "execute_result"
    }
   ],
   "source": [
    "test.policy_csl.unique(), train.policy_csl_float.unique()"
   ]
  },
  {
   "cell_type": "markdown",
   "metadata": {},
   "source": [
    "# 7.2 Treating Extreme Values/Outliers"
   ]
  },
  {
   "cell_type": "markdown",
   "metadata": {},
   "source": [
    "# 7.3 Feature Engineering"
   ]
  },
  {
   "cell_type": "code",
   "execution_count": 2263,
   "metadata": {},
   "outputs": [],
   "source": [
    "#calculate the years of the auto_year or car\n",
    "from datetime import datetime\n",
    "current_date_time = datetime.now()\n",
    "\n",
    "#replace the YYYY date with number of years\n",
    "train['auto_age'] = (current_date_time.year - train['auto_year'])\n",
    "test['auto_age'] = (current_date_time.year - test['auto_year'])\n",
    "\n",
    "#add the years_as_customer\n",
    "train['years_as_customer'] = train.months_as_customer//12\n",
    "test['years_as_customer'] = test.months_as_customer//12\n",
    "#add the months_out_of_12_as_customer\n",
    "train['no_months_as_customer'] = train.months_as_customer%12\n",
    "test['no_months_as_customer'] = test.months_as_customer%12"
   ]
  },
  {
   "cell_type": "code",
   "execution_count": 2264,
   "metadata": {},
   "outputs": [
    {
     "data": {
      "text/plain": [
       "(2013, 8, 239)"
      ]
     },
     "execution_count": 2264,
     "metadata": {},
     "output_type": "execute_result"
    }
   ],
   "source": [
    "train.auto_year[0], train.auto_age[0], train.months_as_customer[0]"
   ]
  },
  {
   "cell_type": "code",
   "execution_count": 2265,
   "metadata": {},
   "outputs": [],
   "source": [
    "#add policy period by the time of the incident\n",
    "#use copy df to create it and add to the original df\n",
    "dftr = train.copy()\n",
    "dfte = test.copy()\n",
    "\n",
    "\n",
    "dftr['incident_date'] = pd.to_datetime(dftr['incident_date'])\n",
    "dftr['policy_bind_date'] = pd.to_datetime(dftr['policy_bind_date'])\n",
    "\n",
    "dfte['incident_date'] = pd.to_datetime(dfte['incident_date'])\n",
    "dfte['policy_bind_date'] = pd.to_datetime(dfte['policy_bind_date'])\n",
    "\n",
    "train['policy_period'] = (dftr.incident_date - dftr.policy_bind_date)\n",
    "test['policy_period'] = (dfte.incident_date - dfte.policy_bind_date)"
   ]
  },
  {
   "cell_type": "code",
   "execution_count": 2266,
   "metadata": {},
   "outputs": [],
   "source": [
    "#convert string float fractions in policy_csl into floats\n",
    "df = train.copy()\n",
    "df[[\"numerator\", \"denominator\"]] = df[\"policy_csl\"].str.split(\"/\", expand=True)\n",
    "\n",
    "#add to train and test data\n",
    "train[\"policy_csl_float\"] = df[\"numerator\"].astype(float) / df[\"denominator\"].astype(float)\n",
    "test[\"policy_csl_float\"] = df[\"numerator\"].astype(float) / df[\"denominator\"].astype(float)"
   ]
  },
  {
   "cell_type": "code",
   "execution_count": 2267,
   "metadata": {},
   "outputs": [
    {
     "data": {
      "text/plain": [
       "array([11,  0,  8,  5,  6,  2,  4,  3, 10,  1,  7,  9], dtype=int64)"
      ]
     },
     "execution_count": 2267,
     "metadata": {},
     "output_type": "execute_result"
    }
   ],
   "source": [
    "train.no_months_as_customer.unique()"
   ]
  },
  {
   "cell_type": "code",
   "execution_count": 2268,
   "metadata": {},
   "outputs": [],
   "source": [
    "#Convert days in policy_period from dtype timedelta to int64\n",
    "train['policy_period'] = train['policy_period'].dt.days\n",
    "test['policy_period'] = test['policy_period'].dt.days"
   ]
  },
  {
   "cell_type": "code",
   "execution_count": 2269,
   "metadata": {},
   "outputs": [
    {
     "data": {
      "text/plain": [
       "0     464\n",
       "1    3359\n",
       "2    4811\n",
       "3     849\n",
       "4    4019\n",
       "Name: policy_period, dtype: int64"
      ]
     },
     "execution_count": 2269,
     "metadata": {},
     "output_type": "execute_result"
    }
   ],
   "source": [
    "train.policy_period.head()"
   ]
  },
  {
   "cell_type": "code",
   "execution_count": 2270,
   "metadata": {},
   "outputs": [],
   "source": [
    "#special copy\n",
    "train_file  = train.copy()\n",
    "test_file = test.copy()"
   ]
  },
  {
   "cell_type": "markdown",
   "metadata": {},
   "source": [
    "**Drop Unnecessary Features**"
   ]
  },
  {
   "cell_type": "code",
   "execution_count": 2271,
   "metadata": {},
   "outputs": [],
   "source": [
    "#auto_year, months_as_customer, incidnet_location\n",
    "#train\n",
    "train = train.drop('months_as_customer', axis = 1)\n",
    "train = train.drop('auto_year', axis = 1)\n",
    "train = train.drop('incident_location', axis = 1)\n",
    "train = train.drop('policy_csl', axis = 1)\n",
    "#test\n",
    "test = test.drop('months_as_customer', axis = 1)\n",
    "test = test.drop('auto_year', axis = 1)\n",
    "test = test.drop('incident_location', axis = 1)\n",
    "test = test.drop('policy_csl', axis = 1)\n",
    "\n",
    "#customer_ID, policy_number, insured_zip,policy_bind_date, incident_date\n",
    "#train\n",
    "train = train.drop('Customer_ID', axis = 1)\n",
    "train = train.drop('policy_number', axis =1)\n",
    "train = train.drop('insured_zip', axis =1)\n",
    "train = train.drop('policy_bind_date', axis = 1)\n",
    "train = train.drop('incident_date', axis = 1)\n",
    "#test\n",
    "test = test.drop('Customer_ID', axis = 1)\n",
    "test = test.drop('policy_number', axis =1)\n",
    "test = test.drop('insured_zip', axis =1)\n",
    "test = test.drop('policy_bind_date', axis = 1)\n",
    "test = test.drop('incident_date', axis = 1)"
   ]
  },
  {
   "cell_type": "markdown",
   "metadata": {},
   "source": [
    "# Get Metrix"
   ]
  },
  {
   "cell_type": "code",
   "execution_count": 2272,
   "metadata": {},
   "outputs": [
    {
     "data": {
      "image/png": "[encoded data removed]",
      "text/plain": [
       "<Figure size 1080x576 with 2 Axes>"
      ]
     },
     "metadata": {
      "needs_background": "light"
     },
     "output_type": "display_data"
    }
   ],
   "source": [
    "#Compute the correlation matrix\n",
    "corr = train.corr()\n",
    "\n",
    "# Generate a mask for the upper triangle\n",
    "mask = np.triu(np.ones_like(corr, dtype=bool))\n",
    "\n",
    "# Set up the matplotlib figure\n",
    "f, ax = plt.subplots(figsize=(15, 8))\n",
    "\n",
    "# Generate a custom diverging colormap\n",
    "cmap = 'nipy_spectral'\n",
    "\n",
    "# Draw the heatmap with the mask and correct aspect ratio\n",
    "sns.heatmap(corr, mask=mask, cmap=cmap, vmax= 1, vmin = -1, center=0,\n",
    "            square=True, linewidths=.5, cbar_kws={\"shrink\": .5});"
   ]
  },
  {
   "cell_type": "markdown",
   "metadata": {},
   "source": [
    "# 8. Building The Model"
   ]
  },
  {
   "cell_type": "markdown",
   "metadata": {},
   "source": [
    "# Scaling\n",
    "* Standardization\n",
    "  "
   ]
  },
  {
   "cell_type": "code",
   "execution_count": 2273,
   "metadata": {},
   "outputs": [],
   "source": [
    "#drop target variable: total_claim_amount and assign it to y\n",
    "X = train.drop('total_claim_amount', axis = 1)\n",
    "y = train.total_claim_amount\n",
    "\n",
    "train_cp = train.copy()\n",
    "test_cp = test.copy()"
   ]
  },
  {
   "cell_type": "code",
   "execution_count": 2274,
   "metadata": {},
   "outputs": [],
   "source": [
    "#Creating Dummies\n",
    "X = pd.get_dummies(X)\n",
    "train = pd.get_dummies(train)\n",
    "test = pd.get_dummies(test)"
   ]
  },
  {
   "cell_type": "code",
   "execution_count": 2275,
   "metadata": {},
   "outputs": [
    {
     "data": {
      "text/plain": [
       "((300, 39), (700, 39))"
      ]
     },
     "execution_count": 2275,
     "metadata": {},
     "output_type": "execute_result"
    }
   ],
   "source": [
    "#CHECK POINT\n",
    "test.shape, X.shape"
   ]
  },
  {
   "cell_type": "code",
   "execution_count": 2276,
   "metadata": {},
   "outputs": [],
   "source": [
    "#Normalizing the Dataset\n",
    "from sklearn.preprocessing import StandardScaler\n",
    "\n",
    "ss = StandardScaler()\n",
    "\n",
    "X.iloc[:,1:-1] = ss.fit_transform(X.iloc[:,1:-1])\n",
    "test.iloc[:,1:-1] = ss.fit_transform(test.iloc[:,1:-1])\n",
    "train.iloc[:,1:-1] = ss.fit_transform(train.iloc[:,1:-1])"
   ]
  },
  {
   "cell_type": "code",
   "execution_count": 2277,
   "metadata": {},
   "outputs": [],
   "source": [
    "#split the data into train and test\n",
    "from sklearn.model_selection import train_test_split\n",
    "\n",
    "X_train, X_test, y_train, y_test = train_test_split(X, y, test_size=0.2, random_state = 42)"
   ]
  },
  {
   "cell_type": "markdown",
   "metadata": {},
   "source": [
    "# Model_0:\n",
    "**Linear Regression**"
   ]
  },
  {
   "cell_type": "code",
   "execution_count": 2278,
   "metadata": {},
   "outputs": [
    {
     "data": {
      "text/plain": [
       "LinearRegression(copy_X=True, fit_intercept=True, n_jobs=None, normalize=False)"
      ]
     },
     "execution_count": 2278,
     "metadata": {},
     "output_type": "execute_result"
    }
   ],
   "source": [
    "from sklearn.linear_model import LinearRegression\n",
    "\n",
    "#lineare regression object\n",
    "regress_0 = LinearRegression()\n",
    "#fit the model\n",
    "regress_0.fit(X_train, y_train)"
   ]
  },
  {
   "cell_type": "code",
   "execution_count": 2279,
   "metadata": {},
   "outputs": [],
   "source": [
    "#predictions\n",
    "y_pred_0 = regress_0.predict(X_test)"
   ]
  },
  {
   "cell_type": "code",
   "execution_count": 2280,
   "metadata": {},
   "outputs": [
    {
     "name": "stdout",
     "output_type": "stream",
     "text": [
      "20613.29004194537\n",
      "20613.29004194537\n"
     ]
    }
   ],
   "source": [
    "#import lib and mod\n",
    "from math import sqrt\n",
    "from sklearn.metrics import mean_squared_error\n",
    "\n",
    "\n",
    "mse = np.square(np.subtract(y_test, y_pred_0)).mean()\n",
    "print(sqrt(mse))\n",
    "rmse = sqrt(mean_squared_error(y_test, y_pred_0))\n",
    "print(rmse)"
   ]
  },
  {
   "cell_type": "code",
   "execution_count": 2281,
   "metadata": {},
   "outputs": [],
   "source": [
    "claim_pred_0 = regress_0.predict(test)"
   ]
  },
  {
   "cell_type": "markdown",
   "metadata": {},
   "source": [
    "**Submission for model 0**"
   ]
  },
  {
   "cell_type": "code",
   "execution_count": 2282,
   "metadata": {},
   "outputs": [],
   "source": [
    "#Adds total_claim_amout column and fill it\n",
    "submission = pd.read_csv('sample_submission.csv')\n",
    "\n",
    "submission['total_claim_amount'] = claim_pred_0\n",
    "#Adds Customer_ID and fill it\n",
    "submission['Customer_ID'] = test_original['Customer_ID']\n",
    "\n",
    "#Convert submission to .csv file format\n",
    "submission.to_csv('regress_0.csv', index = False)"
   ]
  },
  {
   "cell_type": "markdown",
   "metadata": {},
   "source": [
    "# Model_1:\n",
    "**Using GridSearch**"
   ]
  },
  {
   "cell_type": "code",
   "execution_count": 2283,
   "metadata": {},
   "outputs": [
    {
     "data": {
      "text/plain": [
       "GridSearchCV(cv=None, error_score='raise-deprecating',\n",
       "             estimator=LinearRegression(copy_X=True, fit_intercept=True,\n",
       "                                        n_jobs=None, normalize=False),\n",
       "             iid='warn', n_jobs=None,\n",
       "             param_grid={'copy_X': [True, False],\n",
       "                         'fit_intercept': [True, False],\n",
       "                         'normalize': [True, False]},\n",
       "             pre_dispatch='2*n_jobs', refit=True, return_train_score=False,\n",
       "             scoring=None, verbose=0)"
      ]
     },
     "execution_count": 2283,
     "metadata": {},
     "output_type": "execute_result"
    }
   ],
   "source": [
    "#import the libraries\n",
    "from sklearn.model_selection import GridSearchCV\n",
    "\n",
    "#instantiate the model\n",
    "model = LinearRegression()\n",
    "#set parameters\n",
    "parameters = {'fit_intercept':[True,False], 'normalize':[True,False], 'copy_X':[True, False]}\n",
    "grid = GridSearchCV(model,parameters, cv=None)\n",
    "\n",
    "grid.fit(X_train, y_train)"
   ]
  },
  {
   "cell_type": "code",
   "execution_count": 2284,
   "metadata": {},
   "outputs": [
    {
     "name": "stdout",
     "output_type": "stream",
     "text": [
      "20615.162509165075\n"
     ]
    }
   ],
   "source": [
    "#predict the X_test\n",
    "y_pred_1 = grid.predict(X_test)\n",
    "\n",
    "rmse = sqrt(mean_squared_error(y_test, y_pred_1))\n",
    "\n",
    "print(rmse)"
   ]
  },
  {
   "cell_type": "code",
   "execution_count": 2285,
   "metadata": {},
   "outputs": [],
   "source": [
    "#make predictions\n",
    "claim_pred_1 = grid.predict(test)"
   ]
  },
  {
   "cell_type": "code",
   "execution_count": 2286,
   "metadata": {},
   "outputs": [],
   "source": [
    "#Adds total_claim_amout column and fill it\n",
    "submission = pd.read_csv('sample_submission.csv')\n",
    "\n",
    "submission['total_claim_amount'] = claim_pred_1\n",
    "#Adds Customer_ID and fill it\n",
    "submission['Customer_ID'] = test_original['Customer_ID']\n",
    "\n",
    "#Convert submission to .csv file format\n",
    "submission.to_csv('regress_1.csv', index = False)"
   ]
  },
  {
   "cell_type": "markdown",
   "metadata": {},
   "source": [
    "# Model_2:\n",
    "**Using GradientBoosting**"
   ]
  },
  {
   "cell_type": "code",
   "execution_count": 2287,
   "metadata": {
    "scrolled": true
   },
   "outputs": [],
   "source": [
    "from sklearn.ensemble import GradientBoostingRegressor #For Regression\n",
    "\n",
    "regress_2 = GradientBoostingRegressor(n_estimators=100, learning_rate=1.0, max_depth=1)\n",
    "regress_2.fit(X_train, y_train);"
   ]
  },
  {
   "cell_type": "code",
   "execution_count": 2288,
   "metadata": {},
   "outputs": [
    {
     "name": "stdout",
     "output_type": "stream",
     "text": [
      "21794.972097970927\n"
     ]
    }
   ],
   "source": [
    "#prediction with GB\n",
    "y_pred_2 = regress_2.predict(X_test)\n",
    "\n",
    "#root mean square error\n",
    "rmse = sqrt(mean_squared_error(y_test, y_pred_2))\n",
    "print(rmse)"
   ]
  },
  {
   "cell_type": "code",
   "execution_count": 2290,
   "metadata": {},
   "outputs": [
    {
     "data": {
      "text/plain": [
       "21794.97209797093"
      ]
     },
     "execution_count": 2290,
     "metadata": {},
     "output_type": "execute_result"
    }
   ],
   "source": [
    "MSE = np.square(np.subtract(y_test,y_pred_2)).mean()\n",
    "sqrt(MSE)"
   ]
  },
  {
   "cell_type": "code",
   "execution_count": 2291,
   "metadata": {},
   "outputs": [],
   "source": [
    "#make a prediction\n",
    "claim_pred_2 = regress_2.predict(test)"
   ]
  },
  {
   "cell_type": "code",
   "execution_count": 2292,
   "metadata": {},
   "outputs": [],
   "source": [
    "#Adds total_claim_amout column and fill it\n",
    "submission = pd.read_csv('sample_submission.csv')\n",
    "\n",
    "submission['total_claim_amount'] = claim_pred_2\n",
    "#Adds Customer_ID and fill it\n",
    "submission['Customer_ID'] = test_original['Customer_ID']\n",
    "\n",
    "#Convert submission to .csv file format\n",
    "submission.to_csv('regress_2.csv', index = False)"
   ]
  },
  {
   "cell_type": "markdown",
   "metadata": {},
   "source": [
    "# 9 Advanced Models"
   ]
  },
  {
   "cell_type": "markdown",
   "metadata": {},
   "source": [
    "<b> 9.1. LogisticRegression: TransformedTargetRegressor</b>"
   ]
  },
  {
   "cell_type": "code",
   "execution_count": 2294,
   "metadata": {},
   "outputs": [],
   "source": [
    "from sklearn.compose import TransformedTargetRegressor\n",
    "from sklearn.preprocessing import QuantileTransformer\n",
    "\n",
    "\n",
    "transformer = QuantileTransformer(output_distribution = 'normal')\n",
    "regressor = LinearRegression()\n",
    "regression_model_3 = TransformedTargetRegressor(regressor = regressor, transformer = transformer)\n",
    "\n",
    "#Model3 with transformed target variable \n",
    "regression_model_3.fit(X_train, y_train);"
   ]
  },
  {
   "cell_type": "code",
   "execution_count": 2295,
   "metadata": {},
   "outputs": [
    {
     "data": {
      "text/plain": [
       "20516.278319624307"
      ]
     },
     "execution_count": 2295,
     "metadata": {},
     "output_type": "execute_result"
    }
   ],
   "source": [
    "#predict and measure RMSE\n",
    "y_pred_3 = regression_model_3.predict(X_test)\n",
    "rmse = sqrt(mean_squared_error(y_test, y_pred_3))\n",
    "rmse"
   ]
  },
  {
   "cell_type": "markdown",
   "metadata": {},
   "source": [
    "9.2 <b> LinearRegression with Standard scaler"
   ]
  },
  {
   "cell_type": "code",
   "execution_count": 2296,
   "metadata": {},
   "outputs": [
    {
     "data": {
      "text/plain": [
       "LinearRegression(copy_X=True, fit_intercept=True, n_jobs=None, normalize=False)"
      ]
     },
     "execution_count": 2296,
     "metadata": {},
     "output_type": "execute_result"
    }
   ],
   "source": [
    "from sklearn.preprocessing import StandardScaler\n",
    "\n",
    "#instantiate the scaler\n",
    "scale = StandardScaler()\n",
    "\n",
    "#scale X_train and X_test the data\n",
    "scaled_X_train = scale.fit_transform(X_train)\n",
    "scaled_X_test = scale.fit_transform(X_test)\n",
    "#create the model object\n",
    "regression_model_4 = LinearRegression()\n",
    "\n",
    "#fit the model\n",
    "regression_model_4.fit(X_train, y_train)"
   ]
  },
  {
   "cell_type": "code",
   "execution_count": 2173,
   "metadata": {},
   "outputs": [
    {
     "name": "stdout",
     "output_type": "stream",
     "text": [
      "20615.162509165075\n"
     ]
    }
   ],
   "source": [
    "#predict the X_test\n",
    "y_pred_4 = grid.predict(X_test)\n",
    "#RMSE\n",
    "rmse = sqrt(mean_squared_error(y_test, y_pred_4))\n",
    "print(rmse)"
   ]
  },
  {
   "cell_type": "markdown",
   "metadata": {},
   "source": [
    "#  K-Nearest Neighbors Algorithm for Regression"
   ]
  },
  {
   "cell_type": "markdown",
   "metadata": {},
   "source": [
    "<b> Preprocessing – Scaling the features"
   ]
  },
  {
   "cell_type": "code",
   "execution_count": null,
   "metadata": {},
   "outputs": [],
   "source": [
    "# fit transform incident_severity and type to run this model\n",
    "#drop target variable: total_claim_amount and assign it to y\n",
    "X = train_cp.drop('total_claim_amount', axis = 1)\n",
    "y = train.total_claim_amount\n",
    "\n",
    "#train_ = train_cp.copy()\n",
    "test_ = test_cp.copy()\n",
    "\n",
    "x_train, x_test, y_train, y_test = train_test_split(X, y, test_size=0.2, random_state = 42)\n",
    "\n",
    "\n",
    "#Preprocessing – Scaling the features\n",
    "from sklearn.preprocessing import MinMaxScaler\n",
    "scaler = MinMaxScaler(feature_range=(0, 1))\n",
    "\n",
    "x_train_scaled = scaler.fit_transform(x_train)\n",
    "x_train = pd.DataFrame(x_train_scaled)\n",
    "\n",
    "x_test_scaled = scaler.fit_transform(x_test)\n",
    "x_test = pd.DataFrame(x_test_scaled)"
   ]
  },
  {
   "cell_type": "code",
   "execution_count": null,
   "metadata": {},
   "outputs": [],
   "source": [
    "#import required packages\n",
    "from sklearn import neighbors\n",
    "from sklearn.metrics import mean_squared_error \n",
    "\n",
    "\n",
    "rmse_val = [] #to store rmse values for different k\n",
    "for K in range(20):\n",
    "    K = K+1\n",
    "    model = neighbors.KNeighborsRegressor(n_neighbors = K)\n",
    "\n",
    "    model.fit(x_train, y_train)  #fit the model\n",
    "    pred = model.predict(x_test) #make prediction on test set\n",
    "    error = sqrt(mean_squared_error(y_test,pred)) #calculate rmse\n",
    "    rmse_val.append(error) #store rmse values\n",
    "    print('RMSE value for k= ' , K , 'is:', error)"
   ]
  },
  {
   "cell_type": "code",
   "execution_count": null,
   "metadata": {},
   "outputs": [],
   "source": [
    "#plotting the rmse values against k values\n",
    "curve = pd.DataFrame(rmse_val) #elbow curve \n",
    "curve.plot()"
   ]
  },
  {
   "cell_type": "code",
   "execution_count": null,
   "metadata": {},
   "outputs": [],
   "source": [
    "#Implementing GridsearchCV to decide on the value of k, to avoid plotting the elbow curve\n",
    "\n",
    "from sklearn.model_selection import GridSearchCV\n",
    "params = {'n_neighbors':[2,3,4,5,6,7,8,9]}\n",
    "\n",
    "knn = neighbors.KNeighborsRegressor()\n",
    "\n",
    "knn_model = GridSearchCV(knn, params, cv=5)\n",
    "knn_model.fit(x_train,y_train)\n",
    "knn_model.best_params_"
   ]
  },
  {
   "cell_type": "code",
   "execution_count": null,
   "metadata": {},
   "outputs": [],
   "source": [
    "#printing the same \n",
    "knn_model_pred = knn_model.predict(x_test)\n",
    "\n",
    "rmse = sqrt(mean_squared_error(y_test,knn_model_pred))\n",
    "rmse"
   ]
  },
  {
   "cell_type": "markdown",
   "metadata": {},
   "source": [
    "# Submission for KNN Regression"
   ]
  },
  {
   "cell_type": "code",
   "execution_count": null,
   "metadata": {},
   "outputs": [],
   "source": [
    "#scale the test data\n",
    "test_scaled = scaler.fit_transform(test_)\n",
    "test_scaled_fit = pd.DataFrame(test_scaled)\n",
    "\n",
    "#predicting on the test set and creating submission file\n",
    "knn_claim_predict = knn_model.predict(test_scaled_fit)"
   ]
  },
  {
   "cell_type": "markdown",
   "metadata": {},
   "source": [
    "# XGBoostNeighbors"
   ]
  },
  {
   "cell_type": "code",
   "execution_count": 2174,
   "metadata": {},
   "outputs": [],
   "source": [
    "#drop target variable: total_claim_amount and assign it to y\n",
    "X = train_cp.drop('total_claim_amount', axis = 1)\n",
    "y = train.total_claim_amount\n",
    "\n",
    "#train_ = train_cp.copy()\n",
    "test_ = test_cp.copy()\n",
    "train_ = train_cp.copy()"
   ]
  },
  {
   "cell_type": "code",
   "execution_count": 2175,
   "metadata": {},
   "outputs": [],
   "source": [
    "#Creating Dummies\n",
    "X= pd.get_dummies(X)\n",
    "train = pd.get_dummies(train_)\n",
    "test = pd.get_dummies(test_)"
   ]
  },
  {
   "cell_type": "code",
   "execution_count": 2176,
   "metadata": {},
   "outputs": [
    {
     "name": "stdout",
     "output_type": "stream",
     "text": [
      "[04:47:42] WARNING: d:\\build\\xgboost\\xgboost-1.3.3.git\\src\\objective\\regression_obj.cu:170: reg:linear is now deprecated in favor of reg:squarederror.\n"
     ]
    }
   ],
   "source": [
    "#split the normalized dataset\n",
    "x_train, x_test, y_train, y_test = train_test_split(X, y, test_size=0.2, random_state = 42)\n",
    "\n",
    "#evaluate an xgboost regression model\n",
    "from xgboost import XGBRegressor\n",
    "from sklearn.metrics import mean_squared_error as MSE\n",
    "\n",
    "\n",
    "#define model evaluation method\n",
    "xgb_r = XGBRegressor(objective ='reg:linear',\n",
    "                  n_estimators = 100, seed = 123)\n",
    "\n",
    "xgb_r.fit(x_train, y_train);"
   ]
  },
  {
   "cell_type": "code",
   "execution_count": 2177,
   "metadata": {},
   "outputs": [
    {
     "data": {
      "text/plain": [
       "0.6333691158598289"
      ]
     },
     "execution_count": 2177,
     "metadata": {},
     "output_type": "execute_result"
    }
   ],
   "source": [
    "# Predict the model\n",
    "xgb_pred = xgb_r.predict(x_test)\n",
    "  \n",
    "# RMSE Computation\n",
    "rmse = np.sqrt(MSE(y_test, xgb_pred))\n",
    "\n",
    "rmse"
   ]
  },
  {
   "cell_type": "markdown",
   "metadata": {},
   "source": [
    "# Gradient Boosting Fine Tuning"
   ]
  },
  {
   "cell_type": "markdown",
   "metadata": {},
   "source": [
    "# ENSEMBLE TECHNIQUES"
   ]
  },
  {
   "cell_type": "code",
   "execution_count": 2178,
   "metadata": {},
   "outputs": [],
   "source": [
    "from sklearn.ensemble import GradientBoostingRegressor #For Regression\n",
    "from xgboost import XGBRegressor\n",
    "from sklearn.tree import DecisionTreeRegressor\n",
    "#evaluate an xgboost regression model\n",
    "from xgboost import XGBRegressor\n",
    "\n",
    "\n",
    "#define model evaluation method\n",
    "model1 = DecisionTreeRegressor()\n",
    "model2 = XGBRegressor()\n",
    "xgb_r = XGBRegressor(objective ='reg:linear', n_estimators = 400, seed = 122)\n",
    "grid_GBR = GradientBoostingRegressor(n_estimators=100, learning_rate=1.0, max_depth=1)   "
   ]
  },
  {
   "cell_type": "code",
   "execution_count": 2179,
   "metadata": {},
   "outputs": [
    {
     "name": "stdout",
     "output_type": "stream",
     "text": [
      "[04:47:49] WARNING: d:\\build\\xgboost\\xgboost-1.3.3.git\\src\\objective\\regression_obj.cu:170: reg:linear is now deprecated in favor of reg:squarederror.\n"
     ]
    }
   ],
   "source": [
    "#fit the model   \n",
    "model1.fit(x_train,y_train) \n",
    "model2.fit(x_train, y_train)\n",
    "xgb_r.fit(x_train, y_train)\n",
    "grid_GBR.fit(x_train, y_train);"
   ]
  },
  {
   "cell_type": "code",
   "execution_count": 2180,
   "metadata": {},
   "outputs": [],
   "source": [
    "#predict the x_test dataset\n",
    "pred1 = model1.predict(x_test) \n",
    "pred2 = model2.predict(x_test)\n",
    "pred3 = xgb_r.predict(x_test)\n",
    "pred4 = grid_GBR.predict(x_test)\n",
    "#creates an empty np.array\n",
    "final_pred = np.array([]) "
   ]
  },
  {
   "cell_type": "code",
   "execution_count": 2181,
   "metadata": {},
   "outputs": [
    {
     "name": "stdout",
     "output_type": "stream",
     "text": [
      "Combined RMSE:  0.6129522204372757\n"
     ]
    }
   ],
   "source": [
    "#import median and take the median of the models\n",
    "from statistics import median\n",
    "for i in range(0,len(x_test)):\n",
    "     final_pred = np.append(final_pred, median([pred1[i], pred2[i], pred3[i], pred4[i]]))\n",
    "        \n",
    "\n",
    "#Combined RMSE \n",
    "rmse = sqrt(mean_squared_error(y_test,final_pred))\n",
    "print('Combined RMSE: ', rmse)"
   ]
  },
  {
   "cell_type": "code",
   "execution_count": 2182,
   "metadata": {},
   "outputs": [
    {
     "data": {
      "text/plain": [
       "0.7965527692488795"
      ]
     },
     "execution_count": 2182,
     "metadata": {},
     "output_type": "execute_result"
    }
   ],
   "source": [
    "sqrt(mean_squared_error(y_test,pred1))"
   ]
  },
  {
   "cell_type": "code",
   "execution_count": 2183,
   "metadata": {},
   "outputs": [
    {
     "data": {
      "text/plain": [
       "0.6333691158598289"
      ]
     },
     "execution_count": 2183,
     "metadata": {},
     "output_type": "execute_result"
    }
   ],
   "source": [
    "sqrt(mean_squared_error(y_test,pred2))"
   ]
  },
  {
   "cell_type": "code",
   "execution_count": 2184,
   "metadata": {},
   "outputs": [
    {
     "data": {
      "text/plain": [
       "0.6333690871661712"
      ]
     },
     "execution_count": 2184,
     "metadata": {},
     "output_type": "execute_result"
    }
   ],
   "source": [
    "sqrt(mean_squared_error(y_test,pred3))"
   ]
  },
  {
   "cell_type": "code",
   "execution_count": 2185,
   "metadata": {},
   "outputs": [
    {
     "data": {
      "text/plain": [
       "0.624658388679921"
      ]
     },
     "execution_count": 2185,
     "metadata": {},
     "output_type": "execute_result"
    }
   ],
   "source": [
    "sqrt(mean_squared_error(y_test,pred4))"
   ]
  },
  {
   "cell_type": "markdown",
   "metadata": {},
   "source": [
    "# Final Prediction of test data with a better model"
   ]
  },
  {
   "cell_type": "code",
   "execution_count": 2186,
   "metadata": {},
   "outputs": [],
   "source": [
    "claim_xgb_pred = xgb_r.predict(test)\n",
    "claim_model1 = model1.predict(test)\n",
    "claim_model2 = model2.predict(test)\n",
    "claim_xgb_r = xgb_r.predict(test)\n",
    "claim_grid_GRB = grid_GBR.predict(test)"
   ]
  },
  {
   "cell_type": "markdown",
   "metadata": {},
   "source": [
    "# Submission of a better model"
   ]
  },
  {
   "cell_type": "code",
   "execution_count": 2187,
   "metadata": {},
   "outputs": [],
   "source": [
    "#Adds total_claim_amout column and fill it\n",
    "submission = pd.read_csv('sample_submission.csv')\n",
    "\n",
    "submission['total_claim_amount'] = claim_xgb_pred\n",
    "#Adds Customer_ID and fill it\n",
    "submission['Customer_ID'] = test_original['Customer_ID']\n",
    "\n",
    "#Convert submission to .csv file format\n",
    "submission.to_csv('xgb_pred.csv', index = False)"
   ]
  },
  {
   "cell_type": "code",
   "execution_count": 2188,
   "metadata": {},
   "outputs": [],
   "source": [
    "submission['total_claim_amount'] = claim_model1\n",
    "#Adds Customer_ID and fill it\n",
    "submission['Customer_ID'] = test_original['Customer_ID']\n",
    "\n",
    "#Convert submission to .csv file format\n",
    "submission.to_csv('model1_pred_.csv', index = False)"
   ]
  },
  {
   "cell_type": "code",
   "execution_count": 2189,
   "metadata": {},
   "outputs": [],
   "source": [
    "submission['total_claim_amount'] = claim_model2\n",
    "#Adds Customer_ID and fill it\n",
    "submission['Customer_ID'] = test_original['Customer_ID']\n",
    "\n",
    "#Convert submission to .csv file format\n",
    "submission.to_csv('mode21_pred_.csv', index = False)"
   ]
  },
  {
   "cell_type": "code",
   "execution_count": 2190,
   "metadata": {},
   "outputs": [],
   "source": [
    "submission['total_claim_amount'] = claim_xgb_r\n",
    "#Adds Customer_ID and fill it\n",
    "submission['Customer_ID'] = test_original['Customer_ID']\n",
    "\n",
    "#Convert submission to .csv file format\n",
    "submission.to_csv('claim_xgb_r.csv', index = False)"
   ]
  },
  {
   "cell_type": "code",
   "execution_count": 2191,
   "metadata": {},
   "outputs": [],
   "source": [
    "submission['total_claim_amount'] = claim_grid_GRB\n",
    "#Adds Customer_ID and fill it\n",
    "submission['Customer_ID'] = test_original['Customer_ID']\n",
    "\n",
    "#Convert submission to .csv file format\n",
    "submission.to_csv('claim_grid_GRB.csv', index = False)"
   ]
  },
  {
   "cell_type": "markdown",
   "metadata": {},
   "source": [
    "# SPECIAL DATA FOR EXPERIMENTING"
   ]
  },
  {
   "cell_type": "code",
   "execution_count": 2192,
   "metadata": {},
   "outputs": [],
   "source": [
    "import warnings #to ignore warnings\n",
    "warnings.filterwarnings('ignore');"
   ]
  },
  {
   "cell_type": "code",
   "execution_count": 2193,
   "metadata": {},
   "outputs": [],
   "source": [
    "train = train_cp.copy()\n",
    "test = test_cp.copy()"
   ]
  },
  {
   "cell_type": "markdown",
   "metadata": {},
   "source": [
    "#Normalizing the Dataset\n",
    "from sklearn.preprocessing import StandardScaler\n",
    "\n",
    "ss = StandardScaler()\n",
    "\n",
    "X.iloc[:,1:-1] = ss.fit_transform(X.iloc[:,1:-1])\n",
    "test.iloc[:,1:-1] = ss.fit_transform(test.iloc[:,1:-1])\n",
    "train.iloc[:,1:-1] = ss.fit_transform(train.iloc[:,1:-1])"
   ]
  },
  {
   "cell_type": "code",
   "execution_count": 2194,
   "metadata": {},
   "outputs": [],
   "source": [
    "#drop target variable: total_claim_amount and assign it to y\n",
    "X = train_cp.drop('total_claim_amount', axis = 1)\n",
    "y = train_cp.total_claim_amount\n",
    "\n",
    "#Creating Dummies\n",
    "X= pd.get_dummies(X)\n",
    "train = pd.get_dummies(train_)\n",
    "test = pd.get_dummies(test_)\n",
    "\n",
    "x_train, x_test, y_train, y_test = train_test_split(X, y, test_size=0.2, random_state = 42)"
   ]
  },
  {
   "cell_type": "code",
   "execution_count": 2195,
   "metadata": {},
   "outputs": [
    {
     "data": {
      "text/plain": [
       "((700, 39), (300, 39))"
      ]
     },
     "execution_count": 2195,
     "metadata": {},
     "output_type": "execute_result"
    }
   ],
   "source": [
    "X.shape, test.shape"
   ]
  },
  {
   "cell_type": "code",
   "execution_count": 2196,
   "metadata": {},
   "outputs": [
    {
     "data": {
      "text/plain": [
       "GradientBoostingRegressor(alpha=0.9, criterion='friedman_mse', init=None,\n",
       "                          learning_rate=1.0, loss='ls', max_depth=1,\n",
       "                          max_features=None, max_leaf_nodes=None,\n",
       "                          min_impurity_decrease=0.0, min_impurity_split=None,\n",
       "                          min_samples_leaf=1, min_samples_split=2,\n",
       "                          min_weight_fraction_leaf=0.0, n_estimators=100,\n",
       "                          n_iter_no_change=None, presort='auto',\n",
       "                          random_state=None, subsample=1.0, tol=0.0001,\n",
       "                          validation_fraction=0.1, verbose=0, warm_start=False)"
      ]
     },
     "execution_count": 2196,
     "metadata": {},
     "output_type": "execute_result"
    }
   ],
   "source": [
    "from sklearn.ensemble import GradientBoostingRegressor #For Regression\n",
    "\n",
    "regres = GradientBoostingRegressor(n_estimators=100, learning_rate=1.0, max_depth=1)\n",
    "regres.fit(x_train, y_train)"
   ]
  },
  {
   "cell_type": "code",
   "execution_count": 2197,
   "metadata": {},
   "outputs": [
    {
     "data": {
      "text/plain": [
       "21794.972097970924"
      ]
     },
     "execution_count": 2197,
     "metadata": {},
     "output_type": "execute_result"
    }
   ],
   "source": [
    "#prediction with GB\n",
    "regres_pre= regres.predict(x_test)\n",
    "\n",
    "#root mean square error\n",
    "rmse = sqrt(mean_squared_error(y_test, regres_pre))\n",
    "rmse"
   ]
  },
  {
   "cell_type": "code",
   "execution_count": 2198,
   "metadata": {},
   "outputs": [
    {
     "data": {
      "text/plain": [
       "GradientBoostingRegressor(alpha=0.9, criterion='friedman_mse', init=None,\n",
       "                          learning_rate=1, loss='ls', max_depth=3,\n",
       "                          max_features=None, max_leaf_nodes=None,\n",
       "                          min_impurity_decrease=0.0, min_impurity_split=None,\n",
       "                          min_samples_leaf=1, min_samples_split=2,\n",
       "                          min_weight_fraction_leaf=0.0, n_estimators=3,\n",
       "                          n_iter_no_change=None, presort='auto',\n",
       "                          random_state=None, subsample=1.0, tol=0.0001,\n",
       "                          validation_fraction=0.1, verbose=0, warm_start=False)"
      ]
     },
     "execution_count": 2198,
     "metadata": {},
     "output_type": "execute_result"
    }
   ],
   "source": [
    "from sklearn import ensemble\n",
    "params = {'n_estimators': 3, 'max_depth': 3, 'learning_rate': 1, 'criterion': 'friedman_mse'}\n",
    "gradient_boosting_regressor = ensemble.GradientBoostingRegressor(**params)\n",
    "\n",
    "gradient_boosting_regressor.fit(x_train, y_train)"
   ]
  },
  {
   "cell_type": "code",
   "execution_count": 2199,
   "metadata": {},
   "outputs": [
    {
     "data": {
      "text/plain": [
       "21427.126634973978"
      ]
     },
     "execution_count": 2199,
     "metadata": {},
     "output_type": "execute_result"
    }
   ],
   "source": [
    "#prediction with GB\n",
    "gbr_pred= gradient_boosting_regressor.predict(x_test)\n",
    "\n",
    "#root mean square error\n",
    "rmse = sqrt(mean_squared_error(y_test, gbr_pred))\n",
    "rmse"
   ]
  },
  {
   "cell_type": "code",
   "execution_count": 2200,
   "metadata": {},
   "outputs": [],
   "source": [
    "claim_gbr_pred = gradient_boosting_regressor.predict(test)"
   ]
  },
  {
   "cell_type": "code",
   "execution_count": 2201,
   "metadata": {},
   "outputs": [],
   "source": [
    "#Adds total_claim_amout column and fill it\n",
    "submission = pd.read_csv('sample_submission.csv')\n",
    "\n",
    "submission['total_claim_amount'] = claim_gbr_pred\n",
    "#Adds Customer_ID and fill it\n",
    "submission['Customer_ID'] = test_original['Customer_ID']\n",
    "\n",
    "#Convert submission to .csv file format\n",
    "submission.to_csv('gbr_pred_ense.csv', index = False)"
   ]
  },
  {
   "cell_type": "markdown",
   "metadata": {},
   "source": [
    "# AdaBoostRegressor"
   ]
  },
  {
   "cell_type": "code",
   "execution_count": 2202,
   "metadata": {},
   "outputs": [],
   "source": [
    "from sklearn import ensemble\n",
    "from sklearn.metrics import mean_squared_error\n",
    "\n",
    "\n",
    "x_train, x_test, y_train, y_test = train_test_split( X, y, test_size=0.1, random_state=13)\n",
    "\n",
    "params = {'n_estimators': 500,\n",
    "          'max_depth': 4,\n",
    "          'min_samples_split': 5,\n",
    "          'learning_rate': 0.01,\n",
    "          'loss': 'ls'}\n",
    "\n",
    "#gradient boosting classifier\n",
    "reg = ensemble.GradientBoostingRegressor(**params)\n",
    "reg.fit(x_train, y_train);"
   ]
  },
  {
   "cell_type": "code",
   "execution_count": 2203,
   "metadata": {},
   "outputs": [
    {
     "data": {
      "text/plain": [
       "AdaBoostRegressor(base_estimator=None, learning_rate=1.0, loss='linear',\n",
       "                  n_estimators=50, random_state=None)"
      ]
     },
     "execution_count": 2203,
     "metadata": {},
     "output_type": "execute_result"
    }
   ],
   "source": [
    "#adaboost classifier\n",
    "reg1=ensemble.AdaBoostRegressor()\n",
    "reg1.fit(x_train, y_train)"
   ]
  },
  {
   "cell_type": "code",
   "execution_count": 2204,
   "metadata": {},
   "outputs": [
    {
     "data": {
      "text/plain": [
       "(20692.12083215479, 20405.571309547096)"
      ]
     },
     "execution_count": 2204,
     "metadata": {},
     "output_type": "execute_result"
    }
   ],
   "source": [
    "#prediction with GB\n",
    "reg_pred = reg.predict(x_test)\n",
    "reg1_pred = reg1.predict(x_test)\n",
    "\n",
    "#root mean square error\n",
    "rmse = sqrt(mean_squared_error(y_test, reg_pred))\n",
    "rmse1 = sqrt(mean_squared_error(y_test, reg1_pred))\n",
    "rmse, rmse1"
   ]
  },
  {
   "cell_type": "code",
   "execution_count": 2205,
   "metadata": {},
   "outputs": [],
   "source": [
    "claim_reg_ada = reg.predict(test)"
   ]
  },
  {
   "cell_type": "code",
   "execution_count": 2206,
   "metadata": {},
   "outputs": [],
   "source": [
    "#Adds total_claim_amout column and fill it\n",
    "submission = pd.read_csv('sample_submission.csv')\n",
    "\n",
    "submission['total_claim_amount'] = claim_reg_ada\n",
    "#Adds Customer_ID and fill it\n",
    "submission['Customer_ID'] = test_original['Customer_ID']\n",
    "\n",
    "#Convert submission to .csv file format\n",
    "submission.to_csv('reg_ada_pred_ense.csv', index = False)"
   ]
  },
  {
   "cell_type": "markdown",
   "metadata": {},
   "source": [
    "# Modifications of  Data PreProcessing"
   ]
  },
  {
   "cell_type": "markdown",
   "metadata": {},
   "source": [
    "**Trasforemed Gradient Boost**"
   ]
  },
  {
   "cell_type": "markdown",
   "metadata": {},
   "source": [
    "1. <b>Import the libraries and load data</b>\n",
    "* **Loading Data**"
   ]
  },
  {
   "cell_type": "code",
   "execution_count": 2207,
   "metadata": {},
   "outputs": [],
   "source": [
    "#CHECK POINT TO COPY THE FILES TO USE IN OTHER DIFFIRENT MODELS\n",
    "train_ = train_cp.copy()\n",
    "train_ = test_cp.copy()"
   ]
  },
  {
   "cell_type": "code",
   "execution_count": 2208,
   "metadata": {},
   "outputs": [],
   "source": [
    "from sklearn import ensemble\n",
    "from sklearn.metrics import mean_squared_error\n",
    "from datetime import time"
   ]
  },
  {
   "cell_type": "code",
   "execution_count": 2209,
   "metadata": {},
   "outputs": [
    {
     "data": {
      "text/html": [
       "<div>\n",
       "<style scoped>\n",
       "    .dataframe tbody tr th:only-of-type {\n",
       "        vertical-align: middle;\n",
       "    }\n",
       "\n",
       "    .dataframe tbody tr th {\n",
       "        vertical-align: top;\n",
       "    }\n",
       "\n",
       "    .dataframe thead th {\n",
       "        text-align: right;\n",
       "    }\n",
       "</style>\n",
       "<table border=\"1\" class=\"dataframe\">\n",
       "  <thead>\n",
       "    <tr style=\"text-align: right;\">\n",
       "      <th></th>\n",
       "      <th>age</th>\n",
       "      <th>insured_sex</th>\n",
       "      <th>insured_education_level</th>\n",
       "      <th>insured_occupation</th>\n",
       "      <th>insured_hobbies</th>\n",
       "      <th>insured_relationship</th>\n",
       "      <th>capital-gains</th>\n",
       "      <th>capital-loss</th>\n",
       "      <th>policy_state</th>\n",
       "      <th>policy_deductable</th>\n",
       "      <th>...</th>\n",
       "      <th>incident_city</th>\n",
       "      <th>witnesses</th>\n",
       "      <th>police_report_available</th>\n",
       "      <th>auto_make</th>\n",
       "      <th>auto_model</th>\n",
       "      <th>policy_csl_float</th>\n",
       "      <th>auto_age</th>\n",
       "      <th>years_as_customer</th>\n",
       "      <th>no_months_as_customer</th>\n",
       "      <th>policy_period</th>\n",
       "    </tr>\n",
       "  </thead>\n",
       "  <tbody>\n",
       "    <tr>\n",
       "      <th>0</th>\n",
       "      <td>26</td>\n",
       "      <td>0</td>\n",
       "      <td>6</td>\n",
       "      <td>4</td>\n",
       "      <td>16</td>\n",
       "      <td>1</td>\n",
       "      <td>31500</td>\n",
       "      <td>0</td>\n",
       "      <td>IL</td>\n",
       "      <td>2000</td>\n",
       "      <td>...</td>\n",
       "      <td>6</td>\n",
       "      <td>3</td>\n",
       "      <td>0</td>\n",
       "      <td>1</td>\n",
       "      <td>5</td>\n",
       "      <td>0.500000</td>\n",
       "      <td>18</td>\n",
       "      <td>0</td>\n",
       "      <td>5</td>\n",
       "      <td>182</td>\n",
       "    </tr>\n",
       "    <tr>\n",
       "      <th>1</th>\n",
       "      <td>33</td>\n",
       "      <td>0</td>\n",
       "      <td>2</td>\n",
       "      <td>3</td>\n",
       "      <td>8</td>\n",
       "      <td>0</td>\n",
       "      <td>61600</td>\n",
       "      <td>0</td>\n",
       "      <td>IL</td>\n",
       "      <td>1000</td>\n",
       "      <td>...</td>\n",
       "      <td>5</td>\n",
       "      <td>3</td>\n",
       "      <td>1</td>\n",
       "      <td>9</td>\n",
       "      <td>29</td>\n",
       "      <td>0.500000</td>\n",
       "      <td>15</td>\n",
       "      <td>13</td>\n",
       "      <td>4</td>\n",
       "      <td>2172</td>\n",
       "    </tr>\n",
       "    <tr>\n",
       "      <th>2</th>\n",
       "      <td>51</td>\n",
       "      <td>0</td>\n",
       "      <td>4</td>\n",
       "      <td>2</td>\n",
       "      <td>15</td>\n",
       "      <td>0</td>\n",
       "      <td>0</td>\n",
       "      <td>-61000</td>\n",
       "      <td>IN</td>\n",
       "      <td>1000</td>\n",
       "      <td>...</td>\n",
       "      <td>5</td>\n",
       "      <td>3</td>\n",
       "      <td>0</td>\n",
       "      <td>11</td>\n",
       "      <td>21</td>\n",
       "      <td>0.500000</td>\n",
       "      <td>14</td>\n",
       "      <td>32</td>\n",
       "      <td>1</td>\n",
       "      <td>8979</td>\n",
       "    </tr>\n",
       "    <tr>\n",
       "      <th>3</th>\n",
       "      <td>57</td>\n",
       "      <td>1</td>\n",
       "      <td>1</td>\n",
       "      <td>0</td>\n",
       "      <td>17</td>\n",
       "      <td>4</td>\n",
       "      <td>42700</td>\n",
       "      <td>-64900</td>\n",
       "      <td>IN</td>\n",
       "      <td>2000</td>\n",
       "      <td>...</td>\n",
       "      <td>4</td>\n",
       "      <td>0</td>\n",
       "      <td>0</td>\n",
       "      <td>7</td>\n",
       "      <td>36</td>\n",
       "      <td>0.500000</td>\n",
       "      <td>9</td>\n",
       "      <td>37</td>\n",
       "      <td>2</td>\n",
       "      <td>8102</td>\n",
       "    </tr>\n",
       "    <tr>\n",
       "      <th>4</th>\n",
       "      <td>29</td>\n",
       "      <td>0</td>\n",
       "      <td>2</td>\n",
       "      <td>6</td>\n",
       "      <td>18</td>\n",
       "      <td>1</td>\n",
       "      <td>0</td>\n",
       "      <td>-29900</td>\n",
       "      <td>OH</td>\n",
       "      <td>1000</td>\n",
       "      <td>...</td>\n",
       "      <td>0</td>\n",
       "      <td>0</td>\n",
       "      <td>1</td>\n",
       "      <td>2</td>\n",
       "      <td>0</td>\n",
       "      <td>0.333333</td>\n",
       "      <td>16</td>\n",
       "      <td>7</td>\n",
       "      <td>0</td>\n",
       "      <td>4327</td>\n",
       "    </tr>\n",
       "  </tbody>\n",
       "</table>\n",
       "<p>5 rows × 31 columns</p>\n",
       "</div>"
      ],
      "text/plain": [
       "   age  insured_sex  insured_education_level  insured_occupation  \\\n",
       "0   26            0                        6                   4   \n",
       "1   33            0                        2                   3   \n",
       "2   51            0                        4                   2   \n",
       "3   57            1                        1                   0   \n",
       "4   29            0                        2                   6   \n",
       "\n",
       "   insured_hobbies  insured_relationship  capital-gains  capital-loss  \\\n",
       "0               16                     1          31500             0   \n",
       "1                8                     0          61600             0   \n",
       "2               15                     0              0        -61000   \n",
       "3               17                     4          42700        -64900   \n",
       "4               18                     1              0        -29900   \n",
       "\n",
       "  policy_state  policy_deductable  ...  incident_city  witnesses  \\\n",
       "0           IL               2000  ...              6          3   \n",
       "1           IL               1000  ...              5          3   \n",
       "2           IN               1000  ...              5          3   \n",
       "3           IN               2000  ...              4          0   \n",
       "4           OH               1000  ...              0          0   \n",
       "\n",
       "   police_report_available  auto_make  auto_model  policy_csl_float auto_age  \\\n",
       "0                        0          1           5          0.500000       18   \n",
       "1                        1          9          29          0.500000       15   \n",
       "2                        0         11          21          0.500000       14   \n",
       "3                        0          7          36          0.500000        9   \n",
       "4                        1          2           0          0.333333       16   \n",
       "\n",
       "   years_as_customer no_months_as_customer  policy_period  \n",
       "0                  0                     5            182  \n",
       "1                 13                     4           2172  \n",
       "2                 32                     1           8979  \n",
       "3                 37                     2           8102  \n",
       "4                  7                     0           4327  \n",
       "\n",
       "[5 rows x 31 columns]"
      ]
     },
     "execution_count": 2209,
     "metadata": {},
     "output_type": "execute_result"
    }
   ],
   "source": [
    "train_.head()"
   ]
  },
  {
   "cell_type": "markdown",
   "metadata": {},
   "source": [
    "0. **Preprocessing**"
   ]
  },
  {
   "cell_type": "code",
   "execution_count": 2210,
   "metadata": {},
   "outputs": [
    {
     "data": {
      "text/plain": [
       "((300, 31), (300, 31))"
      ]
     },
     "execution_count": 2210,
     "metadata": {},
     "output_type": "execute_result"
    }
   ],
   "source": [
    "train_.shape, test_.shape"
   ]
  },
  {
   "cell_type": "code",
   "execution_count": 2211,
   "metadata": {},
   "outputs": [],
   "source": [
    "#drop target variable: total_claim_amount and assign it to y\n",
    "x = X\n",
    "y = y"
   ]
  },
  {
   "cell_type": "code",
   "execution_count": 2212,
   "metadata": {},
   "outputs": [
    {
     "data": {
      "text/plain": [
       "((700, 39), (300, 31), (700,))"
      ]
     },
     "execution_count": 2212,
     "metadata": {},
     "output_type": "execute_result"
    }
   ],
   "source": [
    "x.shape, test_.shape, y.shape"
   ]
  },
  {
   "cell_type": "markdown",
   "metadata": {},
   "source": [
    "2. **Data Tranformation**"
   ]
  },
  {
   "cell_type": "code",
   "execution_count": 2213,
   "metadata": {},
   "outputs": [],
   "source": [
    "#Creating Dummies\n",
    "x= pd.get_dummies(x)\n",
    "train_ = pd.get_dummies(train_)\n",
    "test_ = pd.get_dummies(test_)"
   ]
  },
  {
   "cell_type": "code",
   "execution_count": 2214,
   "metadata": {},
   "outputs": [
    {
     "data": {
      "text/plain": [
       "((700, 39), (300, 39))"
      ]
     },
     "execution_count": 2214,
     "metadata": {},
     "output_type": "execute_result"
    }
   ],
   "source": [
    "x.shape, test_.shape"
   ]
  },
  {
   "cell_type": "markdown",
   "metadata": {},
   "source": [
    "3. **Splitting the data and Training the model**"
   ]
  },
  {
   "cell_type": "code",
   "execution_count": 2215,
   "metadata": {},
   "outputs": [],
   "source": [
    "#split the train dataset before training\n",
    "x_train, x_test, y_train, y_test = train_test_split( x, y, test_size=0.1, random_state=13)"
   ]
  },
  {
   "cell_type": "code",
   "execution_count": 2216,
   "metadata": {},
   "outputs": [],
   "source": [
    "#gradient boosting classifier\n",
    "params = {'n_estimators': 500,\n",
    "          'max_depth': 4,\n",
    "          'min_samples_split': 5,\n",
    "          'learning_rate': 0.01,\n",
    "          'loss': 'ls'}\n",
    "\n",
    "reg_ = ensemble.GradientBoostingRegressor(**params)\n",
    "reg_.fit(x_train, y_train);"
   ]
  },
  {
   "cell_type": "code",
   "execution_count": 2217,
   "metadata": {},
   "outputs": [],
   "source": [
    "#adaboost classifier\n",
    "reg_1=ensemble.AdaBoostRegressor()\n",
    "reg_1.fit(x_train, y_train);"
   ]
  },
  {
   "cell_type": "code",
   "execution_count": 2218,
   "metadata": {},
   "outputs": [
    {
     "data": {
      "text/plain": [
       "(20728.943564280817, 20440.628758243238)"
      ]
     },
     "execution_count": 2218,
     "metadata": {},
     "output_type": "execute_result"
    }
   ],
   "source": [
    "#prediction with GB and AB\n",
    "reg_pred = reg_.predict(x_test)\n",
    "reg1_pred = reg_1.predict(x_test)\n",
    "\n",
    "#root mean square error\n",
    "rmse = sqrt(mean_squared_error(y_test, reg_pred))\n",
    "rmse1 = sqrt(mean_squared_error(y_test,reg1_pred))\n",
    "rmse, rmse1"
   ]
  },
  {
   "cell_type": "markdown",
   "metadata": {},
   "source": [
    "# Solution Submission"
   ]
  },
  {
   "cell_type": "code",
   "execution_count": 2219,
   "metadata": {},
   "outputs": [],
   "source": [
    "reg_pred = reg_.predict(test_)\n",
    "#Adds total_claim_amout column and fill it\n",
    "submission = pd.read_csv('sample_submission.csv')\n",
    "\n",
    "submission['total_claim_amount'] = reg_pred\n",
    "#Adds Customer_ID and fill it\n",
    "submission['Customer_ID'] = test_original['Customer_ID']\n",
    "\n",
    "#Convert submission to .csv file format\n",
    "submission.to_csv('reg_pred.csv', index = False)"
   ]
  },
  {
   "cell_type": "code",
   "execution_count": null,
   "metadata": {},
   "outputs": [],
   "source": []
  },
  {
   "cell_type": "markdown",
   "metadata": {},
   "source": [
    "# Final Complex Linear Regression Model"
   ]
  },
  {
   "cell_type": "code",
   "execution_count": 2220,
   "metadata": {},
   "outputs": [],
   "source": [
    "#split test and training dataset\n",
    "X_train, X_test, y_train, y_test = train_test_split(X, y, test_size = 0.2, random_state=42)\n",
    "\n",
    "# import necessary libraries\n",
    "from random import random\n",
    "from random import randint\n",
    "from random import seed\n",
    "from numpy import arange\n",
    "from numpy import mean\n",
    "from numpy import std\n",
    "from numpy import absolute\n",
    "from sklearn.linear_model import LinearRegression\n",
    "from sklearn.model_selection import cross_val_score\n",
    "from sklearn.model_selection import RepeatedKFold\n",
    "from matplotlib import pyplot\n",
    "\n",
    "\n",
    "# 1. evaluate a model\n",
    "def evaluate_model(X, y, model):\n",
    "    # define model evaluation method\n",
    "    cv = RepeatedKFold(n_splits=10, n_repeats=3, random_state=1)\n",
    "    # evaluate model\n",
    "    scores = cross_val_score(model, X, y, scoring='neg_mean_absolute_error', cv=cv, n_jobs=-1)\n",
    "    # force scores to be positive\n",
    "    return absolute(scores)"
   ]
  },
  {
   "cell_type": "code",
   "execution_count": 2221,
   "metadata": {},
   "outputs": [],
   "source": [
    "# 2. plot the dataset and the model's line of best fit\n",
    "def best_fit(X, y, model):\n",
    "    #fits the model to the training data\n",
    "    model.fit(X, y)\n",
    "    #return the fitted model\n",
    "    return model"
   ]
  },
  {
   "cell_type": "code",
   "execution_count": 2222,
   "metadata": {},
   "outputs": [
    {
     "name": "stdout",
     "output_type": "stream",
     "text": [
      "Mean MAE:19555.81957794868, STD: 4002.9088630939027\n"
     ]
    }
   ],
   "source": [
    "# 3. define the model, evalutate and fit it\n",
    "model = LinearRegression()\n",
    "# evaluate model\n",
    "results = evaluate_model(X_test, y_test, model)\n",
    "#predict results\n",
    "print(f'Mean MAE:{mean(results)}, STD: {std(results)}')\n",
    "# fit the model\n",
    "fitted_model = best_fit(X_train, y_train, model)"
   ]
  },
  {
   "cell_type": "code",
   "execution_count": 2223,
   "metadata": {},
   "outputs": [
    {
     "data": {
      "text/plain": [
       "20615.16250916417"
      ]
     },
     "execution_count": 2223,
     "metadata": {},
     "output_type": "execute_result"
    }
   ],
   "source": [
    "#predict the target\n",
    "pred_results = fitted_model.predict(X_test)\n",
    "#RMSE\n",
    "rmse = (sqrt(mean_squared_error(y_test, pred_results)))\n",
    "rmse"
   ]
  },
  {
   "cell_type": "code",
   "execution_count": null,
   "metadata": {},
   "outputs": [],
   "source": []
  }
 ],
 "metadata": {
  "kernelspec": {
   "display_name": "Python 3",
   "language": "python",
   "name": "python3"
  },
  "language_info": {
   "codemirror_mode": {
    "name": "ipython",
    "version": 3
   },
   "file_extension": ".py",
   "mimetype": "text/x-python",
   "name": "python",
   "nbconvert_exporter": "python",
   "pygments_lexer": "ipython3",
   "version": "3.7.4"
  }
 },
 "nbformat": 4,
 "nbformat_minor": 2
}
